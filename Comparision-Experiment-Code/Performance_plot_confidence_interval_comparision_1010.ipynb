{
 "cells": [
  {
   "cell_type": "code",
   "execution_count": 1,
   "metadata": {},
   "outputs": [],
   "source": [
    "import os\n",
    "os.environ[\"CUDA_DEVICE_ORDER\"] = \"PCI_BUS_ID\"\n",
    "os.environ[\"CUDA_VISIBLE_DEVICES\"] = \"1\"   #(xxxx is your specific GPU ID)"
   ]
  },
  {
   "cell_type": "code",
   "execution_count": 2,
   "metadata": {},
   "outputs": [],
   "source": [
    "import pandas as pd\n",
    "import seaborn as sns\n",
    "import matplotlib.pyplot as plt"
   ]
  },
  {
   "cell_type": "code",
   "execution_count": 3,
   "metadata": {},
   "outputs": [],
   "source": [
    "import numpy as np\n",
    "import scipy.stats as st"
   ]
  },
  {
   "cell_type": "markdown",
   "metadata": {},
   "source": [
    "# Group model"
   ]
  },
  {
   "cell_type": "code",
   "execution_count": 4,
   "metadata": {
    "scrolled": true
   },
   "outputs": [],
   "source": [
    "Perfomance_1 = pd.read_csv('Performance_0906_Inputs.csv')\n",
    "Perfomance_1['Feature_Extract'] = 'RestNet50'"
   ]
  },
  {
   "cell_type": "code",
   "execution_count": 5,
   "metadata": {
    "scrolled": true
   },
   "outputs": [],
   "source": [
    "Perfomance_2 = pd.read_csv('Performance_0907_Feature_extract.csv')\n",
    "Perfomance_2['Inputs'] = 'MEL'"
   ]
  },
  {
   "cell_type": "code",
   "execution_count": 6,
   "metadata": {
    "scrolled": true
   },
   "outputs": [],
   "source": [
    "Perfomance = pd.concat([Perfomance_1,Perfomance_2])"
   ]
  },
  {
   "cell_type": "markdown",
   "metadata": {},
   "source": [
    "# Split inputs and feature Perfomance"
   ]
  },
  {
   "cell_type": "code",
   "execution_count": 7,
   "metadata": {
    "scrolled": true
   },
   "outputs": [],
   "source": [
    "Perfomance_inputs = Perfomance[Perfomance['Feature_Extract']=='RestNet50']\n",
    "Perfomance_inputs = Perfomance_inputs.reset_index(drop=True)"
   ]
  },
  {
   "cell_type": "code",
   "execution_count": 8,
   "metadata": {},
   "outputs": [
    {
     "data": {
      "text/html": [
       "<div>\n",
       "<style scoped>\n",
       "    .dataframe tbody tr th:only-of-type {\n",
       "        vertical-align: middle;\n",
       "    }\n",
       "\n",
       "    .dataframe tbody tr th {\n",
       "        vertical-align: top;\n",
       "    }\n",
       "\n",
       "    .dataframe thead th {\n",
       "        text-align: right;\n",
       "    }\n",
       "</style>\n",
       "<table border=\"1\" class=\"dataframe\">\n",
       "  <thead>\n",
       "    <tr style=\"text-align: right;\">\n",
       "      <th></th>\n",
       "      <th>Time</th>\n",
       "      <th>Partcp_Acc_p15</th>\n",
       "      <th>Command_Acc_p15</th>\n",
       "      <th>Partcp_Acc_p1</th>\n",
       "      <th>Command_Acc_p1</th>\n",
       "      <th>Partcp_Acc_p2</th>\n",
       "      <th>Command_Acc_p2</th>\n",
       "      <th>Partcp_Acc_p3</th>\n",
       "      <th>Command_Acc_p3</th>\n",
       "      <th>Partcp_Acc_p4</th>\n",
       "      <th>Command_Acc_p4</th>\n",
       "      <th>Partcp_Acc_p5</th>\n",
       "      <th>Command_Acc_p5</th>\n",
       "    </tr>\n",
       "    <tr>\n",
       "      <th>Inputs</th>\n",
       "      <th></th>\n",
       "      <th></th>\n",
       "      <th></th>\n",
       "      <th></th>\n",
       "      <th></th>\n",
       "      <th></th>\n",
       "      <th></th>\n",
       "      <th></th>\n",
       "      <th></th>\n",
       "      <th></th>\n",
       "      <th></th>\n",
       "      <th></th>\n",
       "      <th></th>\n",
       "    </tr>\n",
       "  </thead>\n",
       "  <tbody>\n",
       "    <tr>\n",
       "      <th>MEL</th>\n",
       "      <td>63.356940</td>\n",
       "      <td>0.99372</td>\n",
       "      <td>0.98084</td>\n",
       "      <td>0.99010</td>\n",
       "      <td>0.97390</td>\n",
       "      <td>0.99814</td>\n",
       "      <td>0.95649</td>\n",
       "      <td>0.99130</td>\n",
       "      <td>0.98869</td>\n",
       "      <td>0.98989</td>\n",
       "      <td>0.98807</td>\n",
       "      <td>1.000</td>\n",
       "      <td>0.998</td>\n",
       "    </tr>\n",
       "    <tr>\n",
       "      <th>MFCC</th>\n",
       "      <td>64.126715</td>\n",
       "      <td>0.95121</td>\n",
       "      <td>0.95084</td>\n",
       "      <td>0.97570</td>\n",
       "      <td>0.95947</td>\n",
       "      <td>0.98238</td>\n",
       "      <td>0.85742</td>\n",
       "      <td>0.95215</td>\n",
       "      <td>0.96607</td>\n",
       "      <td>0.89084</td>\n",
       "      <td>0.99080</td>\n",
       "      <td>0.955</td>\n",
       "      <td>0.981</td>\n",
       "    </tr>\n",
       "    <tr>\n",
       "      <th>SPEC</th>\n",
       "      <td>62.717188</td>\n",
       "      <td>0.94458</td>\n",
       "      <td>0.94550</td>\n",
       "      <td>0.93783</td>\n",
       "      <td>0.93871</td>\n",
       "      <td>0.97685</td>\n",
       "      <td>0.87222</td>\n",
       "      <td>0.95215</td>\n",
       "      <td>0.95911</td>\n",
       "      <td>0.89174</td>\n",
       "      <td>0.96055</td>\n",
       "      <td>0.966</td>\n",
       "      <td>1.000</td>\n",
       "    </tr>\n",
       "  </tbody>\n",
       "</table>\n",
       "</div>"
      ],
      "text/plain": [
       "             Time  Partcp_Acc_p15  Command_Acc_p15  Partcp_Acc_p1  \\\n",
       "Inputs                                                              \n",
       "MEL     63.356940         0.99372          0.98084        0.99010   \n",
       "MFCC    64.126715         0.95121          0.95084        0.97570   \n",
       "SPEC    62.717188         0.94458          0.94550        0.93783   \n",
       "\n",
       "        Command_Acc_p1  Partcp_Acc_p2  Command_Acc_p2  Partcp_Acc_p3  \\\n",
       "Inputs                                                                 \n",
       "MEL            0.97390        0.99814         0.95649        0.99130   \n",
       "MFCC           0.95947        0.98238         0.85742        0.95215   \n",
       "SPEC           0.93871        0.97685         0.87222        0.95215   \n",
       "\n",
       "        Command_Acc_p3  Partcp_Acc_p4  Command_Acc_p4  Partcp_Acc_p5  \\\n",
       "Inputs                                                                 \n",
       "MEL            0.98869        0.98989         0.98807          1.000   \n",
       "MFCC           0.96607        0.89084         0.99080          0.955   \n",
       "SPEC           0.95911        0.89174         0.96055          0.966   \n",
       "\n",
       "        Command_Acc_p5  \n",
       "Inputs                  \n",
       "MEL              0.998  \n",
       "MFCC             0.981  \n",
       "SPEC             1.000  "
      ]
     },
     "execution_count": 8,
     "metadata": {},
     "output_type": "execute_result"
    }
   ],
   "source": [
    "Perfomance_inputs.groupby('Inputs').mean()"
   ]
  },
  {
   "cell_type": "code",
   "execution_count": 9,
   "metadata": {
    "scrolled": true
   },
   "outputs": [],
   "source": [
    "Perfomance_Feature_Extract = Perfomance[Perfomance['Inputs']=='MEL']\n",
    "Perfomance_Feature_Extract = Perfomance_Feature_Extract.reset_index(drop=True)"
   ]
  },
  {
   "cell_type": "code",
   "execution_count": 10,
   "metadata": {},
   "outputs": [
    {
     "data": {
      "text/html": [
       "<div>\n",
       "<style scoped>\n",
       "    .dataframe tbody tr th:only-of-type {\n",
       "        vertical-align: middle;\n",
       "    }\n",
       "\n",
       "    .dataframe tbody tr th {\n",
       "        vertical-align: top;\n",
       "    }\n",
       "\n",
       "    .dataframe thead th {\n",
       "        text-align: right;\n",
       "    }\n",
       "</style>\n",
       "<table border=\"1\" class=\"dataframe\">\n",
       "  <thead>\n",
       "    <tr style=\"text-align: right;\">\n",
       "      <th></th>\n",
       "      <th>Time</th>\n",
       "      <th>Partcp_Acc_p15</th>\n",
       "      <th>Command_Acc_p15</th>\n",
       "      <th>Partcp_Acc_p1</th>\n",
       "      <th>Command_Acc_p1</th>\n",
       "      <th>Partcp_Acc_p2</th>\n",
       "      <th>Command_Acc_p2</th>\n",
       "      <th>Partcp_Acc_p3</th>\n",
       "      <th>Command_Acc_p3</th>\n",
       "      <th>Partcp_Acc_p4</th>\n",
       "      <th>Command_Acc_p4</th>\n",
       "      <th>Partcp_Acc_p5</th>\n",
       "      <th>Command_Acc_p5</th>\n",
       "    </tr>\n",
       "    <tr>\n",
       "      <th>Feature_Extract</th>\n",
       "      <th></th>\n",
       "      <th></th>\n",
       "      <th></th>\n",
       "      <th></th>\n",
       "      <th></th>\n",
       "      <th></th>\n",
       "      <th></th>\n",
       "      <th></th>\n",
       "      <th></th>\n",
       "      <th></th>\n",
       "      <th></th>\n",
       "      <th></th>\n",
       "      <th></th>\n",
       "    </tr>\n",
       "  </thead>\n",
       "  <tbody>\n",
       "    <tr>\n",
       "      <th>INCEPTION_Resnet_v2</th>\n",
       "      <td>93.278855</td>\n",
       "      <td>0.89520</td>\n",
       "      <td>0.94163</td>\n",
       "      <td>0.89730</td>\n",
       "      <td>0.9045</td>\n",
       "      <td>0.92592</td>\n",
       "      <td>0.88242</td>\n",
       "      <td>0.90868</td>\n",
       "      <td>0.96346</td>\n",
       "      <td>0.80185</td>\n",
       "      <td>0.97892</td>\n",
       "      <td>0.946</td>\n",
       "      <td>0.981</td>\n",
       "    </tr>\n",
       "    <tr>\n",
       "      <th>RestNet50</th>\n",
       "      <td>63.356940</td>\n",
       "      <td>0.99372</td>\n",
       "      <td>0.98084</td>\n",
       "      <td>0.99010</td>\n",
       "      <td>0.9739</td>\n",
       "      <td>0.99814</td>\n",
       "      <td>0.95649</td>\n",
       "      <td>0.99130</td>\n",
       "      <td>0.98869</td>\n",
       "      <td>0.98989</td>\n",
       "      <td>0.98807</td>\n",
       "      <td>1.000</td>\n",
       "      <td>0.998</td>\n",
       "    </tr>\n",
       "    <tr>\n",
       "      <th>VGG16</th>\n",
       "      <td>59.860492</td>\n",
       "      <td>0.88178</td>\n",
       "      <td>0.91215</td>\n",
       "      <td>0.86847</td>\n",
       "      <td>0.9180</td>\n",
       "      <td>0.94998</td>\n",
       "      <td>0.77222</td>\n",
       "      <td>0.91651</td>\n",
       "      <td>0.93040</td>\n",
       "      <td>0.78163</td>\n",
       "      <td>0.96791</td>\n",
       "      <td>0.892</td>\n",
       "      <td>0.975</td>\n",
       "    </tr>\n",
       "  </tbody>\n",
       "</table>\n",
       "</div>"
      ],
      "text/plain": [
       "                          Time  Partcp_Acc_p15  Command_Acc_p15  \\\n",
       "Feature_Extract                                                   \n",
       "INCEPTION_Resnet_v2  93.278855         0.89520          0.94163   \n",
       "RestNet50            63.356940         0.99372          0.98084   \n",
       "VGG16                59.860492         0.88178          0.91215   \n",
       "\n",
       "                     Partcp_Acc_p1  Command_Acc_p1  Partcp_Acc_p2  \\\n",
       "Feature_Extract                                                     \n",
       "INCEPTION_Resnet_v2        0.89730          0.9045        0.92592   \n",
       "RestNet50                  0.99010          0.9739        0.99814   \n",
       "VGG16                      0.86847          0.9180        0.94998   \n",
       "\n",
       "                     Command_Acc_p2  Partcp_Acc_p3  Command_Acc_p3  \\\n",
       "Feature_Extract                                                      \n",
       "INCEPTION_Resnet_v2         0.88242        0.90868         0.96346   \n",
       "RestNet50                   0.95649        0.99130         0.98869   \n",
       "VGG16                       0.77222        0.91651         0.93040   \n",
       "\n",
       "                     Partcp_Acc_p4  Command_Acc_p4  Partcp_Acc_p5  \\\n",
       "Feature_Extract                                                     \n",
       "INCEPTION_Resnet_v2        0.80185         0.97892          0.946   \n",
       "RestNet50                  0.98989         0.98807          1.000   \n",
       "VGG16                      0.78163         0.96791          0.892   \n",
       "\n",
       "                     Command_Acc_p5  \n",
       "Feature_Extract                      \n",
       "INCEPTION_Resnet_v2           0.981  \n",
       "RestNet50                     0.998  \n",
       "VGG16                         0.975  "
      ]
     },
     "execution_count": 10,
     "metadata": {},
     "output_type": "execute_result"
    }
   ],
   "source": [
    "Perfomance_Feature_Extract.groupby('Feature_Extract').mean()"
   ]
  },
  {
   "cell_type": "markdown",
   "metadata": {},
   "source": [
    "# Calculate by build in function"
   ]
  },
  {
   "cell_type": "markdown",
   "metadata": {},
   "source": [
    "## inputs"
   ]
  },
  {
   "cell_type": "code",
   "execution_count": 11,
   "metadata": {},
   "outputs": [
    {
     "data": {
      "text/html": [
       "<div>\n",
       "<style scoped>\n",
       "    .dataframe tbody tr th:only-of-type {\n",
       "        vertical-align: middle;\n",
       "    }\n",
       "\n",
       "    .dataframe tbody tr th {\n",
       "        vertical-align: top;\n",
       "    }\n",
       "\n",
       "    .dataframe thead th {\n",
       "        text-align: right;\n",
       "    }\n",
       "</style>\n",
       "<table border=\"1\" class=\"dataframe\">\n",
       "  <thead>\n",
       "    <tr style=\"text-align: right;\">\n",
       "      <th></th>\n",
       "      <th>Inputs</th>\n",
       "      <th>Time-low</th>\n",
       "      <th>Time-high</th>\n",
       "      <th>Keyword-low</th>\n",
       "      <th>Keyword-high</th>\n",
       "      <th>Speaker-low</th>\n",
       "      <th>Speaker-high</th>\n",
       "    </tr>\n",
       "  </thead>\n",
       "  <tbody>\n",
       "    <tr>\n",
       "      <th>0</th>\n",
       "      <td>MFCC</td>\n",
       "      <td>60.0986</td>\n",
       "      <td>68.1548</td>\n",
       "      <td>0.947122</td>\n",
       "      <td>0.954558</td>\n",
       "      <td>0.947686</td>\n",
       "      <td>0.954734</td>\n",
       "    </tr>\n",
       "    <tr>\n",
       "      <th>1</th>\n",
       "      <td>SPEC</td>\n",
       "      <td>59.2269</td>\n",
       "      <td>66.2075</td>\n",
       "      <td>0.940744</td>\n",
       "      <td>0.950256</td>\n",
       "      <td>0.940998</td>\n",
       "      <td>0.948162</td>\n",
       "    </tr>\n",
       "    <tr>\n",
       "      <th>2</th>\n",
       "      <td>MEL</td>\n",
       "      <td>59.0262</td>\n",
       "      <td>67.6877</td>\n",
       "      <td>0.979085</td>\n",
       "      <td>0.982595</td>\n",
       "      <td>0.992617</td>\n",
       "      <td>0.994823</td>\n",
       "    </tr>\n",
       "  </tbody>\n",
       "</table>\n",
       "</div>"
      ],
      "text/plain": [
       "  Inputs Time-low Time-high Keyword-low Keyword-high Speaker-low Speaker-high\n",
       "0   MFCC  60.0986   68.1548    0.947122     0.954558    0.947686     0.954734\n",
       "1   SPEC  59.2269   66.2075    0.940744     0.950256    0.940998     0.948162\n",
       "2    MEL  59.0262   67.6877    0.979085     0.982595    0.992617     0.994823"
      ]
     },
     "execution_count": 11,
     "metadata": {},
     "output_type": "execute_result"
    }
   ],
   "source": [
    "confidence = pd.DataFrame(columns=[\"Inputs\", 'Time-low','Time-high', 'Keyword-low', 'Keyword-high','Speaker-low','Speaker-high'])\n",
    "confidence['Inputs'] = Perfomance_inputs['Inputs'].unique() \n",
    "for  k in Perfomance_inputs['Inputs'].unique():\n",
    "    confidence.loc[confidence['Inputs'] ==  k,['Time-low','Time-high']] =  st.t.interval(alpha=0.95, df=len(Perfomance_inputs.loc[Perfomance_inputs['Inputs'] ==  k,'Time']), loc=np.mean(Perfomance_inputs.loc[Perfomance_inputs['Inputs'] ==  k,'Time']), scale=st.sem(Perfomance_inputs.loc[Perfomance_inputs['Inputs'] ==  k,'Time'])) \n",
    "    confidence.loc[confidence['Inputs'] ==  k,['Keyword-low','Keyword-high']] =  st.t.interval(alpha=0.95, df=len(Perfomance_inputs.loc[Perfomance_inputs['Inputs'] ==  k,'Command_Acc_p15']), loc=np.mean(Perfomance_inputs.loc[Perfomance_inputs['Inputs'] ==  k,'Command_Acc_p15']), scale=st.sem(Perfomance_inputs.loc[Perfomance_inputs['Inputs'] ==  k,'Command_Acc_p15'])) \n",
    "    confidence.loc[confidence['Inputs'] ==  k,['Speaker-low','Speaker-high']] =  st.t.interval(alpha=0.95, df=len(Perfomance_inputs.loc[Perfomance_inputs['Inputs'] ==  k,'Partcp_Acc_p15']), loc=np.mean(Perfomance_inputs.loc[Perfomance_inputs['Inputs'] ==  k,'Partcp_Acc_p15']), scale=st.sem(Perfomance_inputs.loc[Perfomance_inputs['Inputs'] ==  k,'Partcp_Acc_p15'])) \n",
    "confidence"
   ]
  },
  {
   "cell_type": "code",
   "execution_count": 12,
   "metadata": {},
   "outputs": [],
   "source": [
    "confidence[['Time-low','Time-high', 'Keyword-low', 'Keyword-high','Speaker-low','Speaker-high']] = confidence[['Time-low','Time-high', 'Keyword-low', 'Keyword-high','Speaker-low','Speaker-high']].astype('float')"
   ]
  },
  {
   "cell_type": "code",
   "execution_count": 13,
   "metadata": {},
   "outputs": [
    {
     "data": {
      "text/html": [
       "<div>\n",
       "<style scoped>\n",
       "    .dataframe tbody tr th:only-of-type {\n",
       "        vertical-align: middle;\n",
       "    }\n",
       "\n",
       "    .dataframe tbody tr th {\n",
       "        vertical-align: top;\n",
       "    }\n",
       "\n",
       "    .dataframe thead th {\n",
       "        text-align: right;\n",
       "    }\n",
       "</style>\n",
       "<table border=\"1\" class=\"dataframe\">\n",
       "  <thead>\n",
       "    <tr style=\"text-align: right;\">\n",
       "      <th></th>\n",
       "      <th>Inputs</th>\n",
       "      <th>Time-low</th>\n",
       "      <th>Time-high</th>\n",
       "      <th>Keyword-low</th>\n",
       "      <th>Keyword-high</th>\n",
       "      <th>Speaker-low</th>\n",
       "      <th>Speaker-high</th>\n",
       "    </tr>\n",
       "  </thead>\n",
       "  <tbody>\n",
       "    <tr>\n",
       "      <th>0</th>\n",
       "      <td>MFCC</td>\n",
       "      <td>60.099</td>\n",
       "      <td>68.155</td>\n",
       "      <td>0.947</td>\n",
       "      <td>0.955</td>\n",
       "      <td>0.948</td>\n",
       "      <td>0.955</td>\n",
       "    </tr>\n",
       "    <tr>\n",
       "      <th>1</th>\n",
       "      <td>SPEC</td>\n",
       "      <td>59.227</td>\n",
       "      <td>66.207</td>\n",
       "      <td>0.941</td>\n",
       "      <td>0.950</td>\n",
       "      <td>0.941</td>\n",
       "      <td>0.948</td>\n",
       "    </tr>\n",
       "    <tr>\n",
       "      <th>2</th>\n",
       "      <td>MEL</td>\n",
       "      <td>59.026</td>\n",
       "      <td>67.688</td>\n",
       "      <td>0.979</td>\n",
       "      <td>0.983</td>\n",
       "      <td>0.993</td>\n",
       "      <td>0.995</td>\n",
       "    </tr>\n",
       "  </tbody>\n",
       "</table>\n",
       "</div>"
      ],
      "text/plain": [
       "  Inputs  Time-low  Time-high  Keyword-low  Keyword-high  Speaker-low  \\\n",
       "0   MFCC    60.099     68.155        0.947         0.955        0.948   \n",
       "1   SPEC    59.227     66.207        0.941         0.950        0.941   \n",
       "2    MEL    59.026     67.688        0.979         0.983        0.993   \n",
       "\n",
       "   Speaker-high  \n",
       "0         0.955  \n",
       "1         0.948  \n",
       "2         0.995  "
      ]
     },
     "execution_count": 13,
     "metadata": {},
     "output_type": "execute_result"
    }
   ],
   "source": [
    "confidence.round(3)"
   ]
  },
  {
   "cell_type": "markdown",
   "metadata": {},
   "source": [
    "## feature extraction"
   ]
  },
  {
   "cell_type": "code",
   "execution_count": 14,
   "metadata": {},
   "outputs": [
    {
     "data": {
      "text/html": [
       "<div>\n",
       "<style scoped>\n",
       "    .dataframe tbody tr th:only-of-type {\n",
       "        vertical-align: middle;\n",
       "    }\n",
       "\n",
       "    .dataframe tbody tr th {\n",
       "        vertical-align: top;\n",
       "    }\n",
       "\n",
       "    .dataframe thead th {\n",
       "        text-align: right;\n",
       "    }\n",
       "</style>\n",
       "<table border=\"1\" class=\"dataframe\">\n",
       "  <thead>\n",
       "    <tr style=\"text-align: right;\">\n",
       "      <th></th>\n",
       "      <th>Feature_Extract</th>\n",
       "      <th>Time-low</th>\n",
       "      <th>Time-high</th>\n",
       "      <th>Keyword-low</th>\n",
       "      <th>Keyword-high</th>\n",
       "      <th>Speaker-low</th>\n",
       "      <th>Speaker-high</th>\n",
       "    </tr>\n",
       "  </thead>\n",
       "  <tbody>\n",
       "    <tr>\n",
       "      <th>0</th>\n",
       "      <td>RestNet50</td>\n",
       "      <td>59.0262</td>\n",
       "      <td>67.6877</td>\n",
       "      <td>0.979085</td>\n",
       "      <td>0.982595</td>\n",
       "      <td>0.992617</td>\n",
       "      <td>0.994823</td>\n",
       "    </tr>\n",
       "    <tr>\n",
       "      <th>1</th>\n",
       "      <td>VGG16</td>\n",
       "      <td>58.2777</td>\n",
       "      <td>61.4433</td>\n",
       "      <td>0.90726</td>\n",
       "      <td>0.91704</td>\n",
       "      <td>0.878281</td>\n",
       "      <td>0.885279</td>\n",
       "    </tr>\n",
       "    <tr>\n",
       "      <th>2</th>\n",
       "      <td>INCEPTION_Resnet_v2</td>\n",
       "      <td>87.8072</td>\n",
       "      <td>98.7505</td>\n",
       "      <td>0.93585</td>\n",
       "      <td>0.94741</td>\n",
       "      <td>0.888745</td>\n",
       "      <td>0.901655</td>\n",
       "    </tr>\n",
       "  </tbody>\n",
       "</table>\n",
       "</div>"
      ],
      "text/plain": [
       "       Feature_Extract Time-low Time-high Keyword-low Keyword-high  \\\n",
       "0            RestNet50  59.0262   67.6877    0.979085     0.982595   \n",
       "1                VGG16  58.2777   61.4433     0.90726      0.91704   \n",
       "2  INCEPTION_Resnet_v2  87.8072   98.7505     0.93585      0.94741   \n",
       "\n",
       "  Speaker-low Speaker-high  \n",
       "0    0.992617     0.994823  \n",
       "1    0.878281     0.885279  \n",
       "2    0.888745     0.901655  "
      ]
     },
     "execution_count": 14,
     "metadata": {},
     "output_type": "execute_result"
    }
   ],
   "source": [
    "confidence = pd.DataFrame(columns=[\"Feature_Extract\", 'Time-low','Time-high', 'Keyword-low', 'Keyword-high','Speaker-low','Speaker-high'])\n",
    "confidence['Feature_Extract'] = Perfomance_Feature_Extract['Feature_Extract'].unique() \n",
    "for k in Perfomance_Feature_Extract['Feature_Extract'].unique():\n",
    "    confidence.loc[confidence['Feature_Extract'] ==  k,['Time-low','Time-high']] =  st.t.interval(alpha=0.95, df=len(Perfomance_Feature_Extract.loc[Perfomance_Feature_Extract['Feature_Extract'] ==  k,'Time']), loc=np.mean(Perfomance_Feature_Extract.loc[Perfomance_Feature_Extract['Feature_Extract'] ==  k,'Time']), scale=st.sem(Perfomance_Feature_Extract.loc[Perfomance_Feature_Extract['Feature_Extract'] ==  k,'Time'])) \n",
    "    confidence.loc[confidence['Feature_Extract'] ==  k,['Keyword-low','Keyword-high']] =  st.t.interval(alpha=0.95, df=len(Perfomance_Feature_Extract.loc[Perfomance_Feature_Extract['Feature_Extract'] ==  k,'Command_Acc_p15']), loc=np.mean(Perfomance_Feature_Extract.loc[Perfomance_Feature_Extract['Feature_Extract'] ==  k,'Command_Acc_p15']), scale=st.sem(Perfomance_Feature_Extract.loc[Perfomance_Feature_Extract['Feature_Extract'] ==  k,'Command_Acc_p15'])) \n",
    "    confidence.loc[confidence['Feature_Extract'] ==  k,['Speaker-low','Speaker-high']] =  st.t.interval(alpha=0.95, df=len(Perfomance_Feature_Extract.loc[Perfomance_Feature_Extract['Feature_Extract'] ==  k,'Partcp_Acc_p15']), loc=np.mean(Perfomance_Feature_Extract.loc[Perfomance_Feature_Extract['Feature_Extract'] ==  k,'Partcp_Acc_p15']), scale=st.sem(Perfomance_Feature_Extract.loc[Perfomance_Feature_Extract['Feature_Extract'] ==  k,'Partcp_Acc_p15'])) \n",
    "confidence"
   ]
  },
  {
   "cell_type": "code",
   "execution_count": 15,
   "metadata": {},
   "outputs": [],
   "source": [
    "confidence[['Time-low','Time-high', 'Keyword-low', 'Keyword-high','Speaker-low','Speaker-high']] = confidence[['Time-low','Time-high', 'Keyword-low', 'Keyword-high','Speaker-low','Speaker-high']].astype('float')"
   ]
  },
  {
   "cell_type": "code",
   "execution_count": 16,
   "metadata": {},
   "outputs": [
    {
     "data": {
      "text/html": [
       "<div>\n",
       "<style scoped>\n",
       "    .dataframe tbody tr th:only-of-type {\n",
       "        vertical-align: middle;\n",
       "    }\n",
       "\n",
       "    .dataframe tbody tr th {\n",
       "        vertical-align: top;\n",
       "    }\n",
       "\n",
       "    .dataframe thead th {\n",
       "        text-align: right;\n",
       "    }\n",
       "</style>\n",
       "<table border=\"1\" class=\"dataframe\">\n",
       "  <thead>\n",
       "    <tr style=\"text-align: right;\">\n",
       "      <th></th>\n",
       "      <th>Feature_Extract</th>\n",
       "      <th>Time-low</th>\n",
       "      <th>Time-high</th>\n",
       "      <th>Keyword-low</th>\n",
       "      <th>Keyword-high</th>\n",
       "      <th>Speaker-low</th>\n",
       "      <th>Speaker-high</th>\n",
       "    </tr>\n",
       "  </thead>\n",
       "  <tbody>\n",
       "    <tr>\n",
       "      <th>0</th>\n",
       "      <td>RestNet50</td>\n",
       "      <td>59.026</td>\n",
       "      <td>67.688</td>\n",
       "      <td>0.979</td>\n",
       "      <td>0.983</td>\n",
       "      <td>0.993</td>\n",
       "      <td>0.995</td>\n",
       "    </tr>\n",
       "    <tr>\n",
       "      <th>1</th>\n",
       "      <td>VGG16</td>\n",
       "      <td>58.278</td>\n",
       "      <td>61.443</td>\n",
       "      <td>0.907</td>\n",
       "      <td>0.917</td>\n",
       "      <td>0.878</td>\n",
       "      <td>0.885</td>\n",
       "    </tr>\n",
       "    <tr>\n",
       "      <th>2</th>\n",
       "      <td>INCEPTION_Resnet_v2</td>\n",
       "      <td>87.807</td>\n",
       "      <td>98.751</td>\n",
       "      <td>0.936</td>\n",
       "      <td>0.947</td>\n",
       "      <td>0.889</td>\n",
       "      <td>0.902</td>\n",
       "    </tr>\n",
       "  </tbody>\n",
       "</table>\n",
       "</div>"
      ],
      "text/plain": [
       "       Feature_Extract  Time-low  Time-high  Keyword-low  Keyword-high  \\\n",
       "0            RestNet50    59.026     67.688        0.979         0.983   \n",
       "1                VGG16    58.278     61.443        0.907         0.917   \n",
       "2  INCEPTION_Resnet_v2    87.807     98.751        0.936         0.947   \n",
       "\n",
       "   Speaker-low  Speaker-high  \n",
       "0        0.993         0.995  \n",
       "1        0.878         0.885  \n",
       "2        0.889         0.902  "
      ]
     },
     "execution_count": 16,
     "metadata": {},
     "output_type": "execute_result"
    }
   ],
   "source": [
    "confidence.round(3)"
   ]
  },
  {
   "cell_type": "markdown",
   "metadata": {},
   "source": [
    "# calculate by hand - Inputs"
   ]
  },
  {
   "cell_type": "code",
   "execution_count": 17,
   "metadata": {},
   "outputs": [],
   "source": [
    "confidence = pd.DataFrame(columns=[\"Inputs\", 'Time_mean','Time+_', 'Keyword_mean', 'Keyword+_','Speaker_mean','Speaker+_'])\n",
    "confidence['Inputs'] = Perfomance_inputs['Inputs'].unique() "
   ]
  },
  {
   "cell_type": "code",
   "execution_count": 18,
   "metadata": {},
   "outputs": [],
   "source": [
    "t_value =  2.262 # df=10-1, alpha = 0.05, two tails\n",
    "def CI_95(data):\n",
    "    n=len(data)\n",
    "    x_bar = data.mean()\n",
    "    x_std = data.std()\n",
    "    CI = t_value*x_std/np.sqrt(n)\n",
    "    return x_bar, CI"
   ]
  },
  {
   "cell_type": "code",
   "execution_count": 19,
   "metadata": {},
   "outputs": [
    {
     "data": {
      "text/html": [
       "<div>\n",
       "<style scoped>\n",
       "    .dataframe tbody tr th:only-of-type {\n",
       "        vertical-align: middle;\n",
       "    }\n",
       "\n",
       "    .dataframe tbody tr th {\n",
       "        vertical-align: top;\n",
       "    }\n",
       "\n",
       "    .dataframe thead th {\n",
       "        text-align: right;\n",
       "    }\n",
       "</style>\n",
       "<table border=\"1\" class=\"dataframe\">\n",
       "  <thead>\n",
       "    <tr style=\"text-align: right;\">\n",
       "      <th></th>\n",
       "      <th>Inputs</th>\n",
       "      <th>Time_mean</th>\n",
       "      <th>Time+_</th>\n",
       "      <th>Keyword_mean</th>\n",
       "      <th>Keyword+_</th>\n",
       "      <th>Speaker_mean</th>\n",
       "      <th>Speaker+_</th>\n",
       "    </tr>\n",
       "  </thead>\n",
       "  <tbody>\n",
       "    <tr>\n",
       "      <th>0</th>\n",
       "      <td>MFCC</td>\n",
       "      <td>64.1267</td>\n",
       "      <td>4.08932</td>\n",
       "      <td>0.95084</td>\n",
       "      <td>0.00377485</td>\n",
       "      <td>0.95121</td>\n",
       "      <td>0.0035774</td>\n",
       "    </tr>\n",
       "    <tr>\n",
       "      <th>1</th>\n",
       "      <td>SPEC</td>\n",
       "      <td>62.7172</td>\n",
       "      <td>3.54331</td>\n",
       "      <td>0.9455</td>\n",
       "      <td>0.00482843</td>\n",
       "      <td>0.94458</td>\n",
       "      <td>0.00363609</td>\n",
       "    </tr>\n",
       "    <tr>\n",
       "      <th>2</th>\n",
       "      <td>MEL</td>\n",
       "      <td>63.3569</td>\n",
       "      <td>4.39655</td>\n",
       "      <td>0.98084</td>\n",
       "      <td>0.0017818</td>\n",
       "      <td>0.99372</td>\n",
       "      <td>0.00111979</td>\n",
       "    </tr>\n",
       "  </tbody>\n",
       "</table>\n",
       "</div>"
      ],
      "text/plain": [
       "  Inputs Time_mean   Time+_ Keyword_mean   Keyword+_ Speaker_mean   Speaker+_\n",
       "0   MFCC   64.1267  4.08932      0.95084  0.00377485      0.95121   0.0035774\n",
       "1   SPEC   62.7172  3.54331       0.9455  0.00482843      0.94458  0.00363609\n",
       "2    MEL   63.3569  4.39655      0.98084   0.0017818      0.99372  0.00111979"
      ]
     },
     "execution_count": 19,
     "metadata": {},
     "output_type": "execute_result"
    }
   ],
   "source": [
    "for k in Perfomance_inputs['Inputs'].unique():\n",
    "    confidence.loc[confidence['Inputs'] == k ,['Time_mean','Time+_']] = CI_95(Perfomance_inputs.loc[Perfomance_inputs['Inputs'] == k ,'Time']) \n",
    "    confidence.loc[confidence['Inputs'] == k ,['Keyword_mean', 'Keyword+_']] = CI_95(Perfomance_inputs.loc[Perfomance_inputs['Inputs'] == k ,'Command_Acc_p15']) \n",
    "    confidence.loc[confidence['Inputs'] == k ,['Speaker_mean','Speaker+_']] = CI_95(Perfomance_inputs.loc[Perfomance_inputs['Inputs'] == k ,'Partcp_Acc_p15'])  \n",
    "confidence"
   ]
  },
  {
   "cell_type": "code",
   "execution_count": 20,
   "metadata": {},
   "outputs": [],
   "source": [
    "confidence[['Time_mean','Time+_', 'Keyword_mean', 'Keyword+_','Speaker_mean','Speaker+_']] = confidence[['Time_mean','Time+_', 'Keyword_mean', 'Keyword+_','Speaker_mean','Speaker+_']].astype('float')"
   ]
  },
  {
   "cell_type": "code",
   "execution_count": 21,
   "metadata": {},
   "outputs": [
    {
     "data": {
      "text/html": [
       "<div>\n",
       "<style scoped>\n",
       "    .dataframe tbody tr th:only-of-type {\n",
       "        vertical-align: middle;\n",
       "    }\n",
       "\n",
       "    .dataframe tbody tr th {\n",
       "        vertical-align: top;\n",
       "    }\n",
       "\n",
       "    .dataframe thead th {\n",
       "        text-align: right;\n",
       "    }\n",
       "</style>\n",
       "<table border=\"1\" class=\"dataframe\">\n",
       "  <thead>\n",
       "    <tr style=\"text-align: right;\">\n",
       "      <th></th>\n",
       "      <th>Inputs</th>\n",
       "      <th>Time_mean</th>\n",
       "      <th>Time+_</th>\n",
       "      <th>Keyword_mean</th>\n",
       "      <th>Keyword+_</th>\n",
       "      <th>Speaker_mean</th>\n",
       "      <th>Speaker+_</th>\n",
       "    </tr>\n",
       "  </thead>\n",
       "  <tbody>\n",
       "    <tr>\n",
       "      <th>0</th>\n",
       "      <td>MFCC</td>\n",
       "      <td>64.1267</td>\n",
       "      <td>4.0893</td>\n",
       "      <td>0.9508</td>\n",
       "      <td>0.0038</td>\n",
       "      <td>0.9512</td>\n",
       "      <td>0.0036</td>\n",
       "    </tr>\n",
       "    <tr>\n",
       "      <th>1</th>\n",
       "      <td>SPEC</td>\n",
       "      <td>62.7172</td>\n",
       "      <td>3.5433</td>\n",
       "      <td>0.9455</td>\n",
       "      <td>0.0048</td>\n",
       "      <td>0.9446</td>\n",
       "      <td>0.0036</td>\n",
       "    </tr>\n",
       "    <tr>\n",
       "      <th>2</th>\n",
       "      <td>MEL</td>\n",
       "      <td>63.3569</td>\n",
       "      <td>4.3965</td>\n",
       "      <td>0.9808</td>\n",
       "      <td>0.0018</td>\n",
       "      <td>0.9937</td>\n",
       "      <td>0.0011</td>\n",
       "    </tr>\n",
       "  </tbody>\n",
       "</table>\n",
       "</div>"
      ],
      "text/plain": [
       "  Inputs  Time_mean  Time+_  Keyword_mean  Keyword+_  Speaker_mean  Speaker+_\n",
       "0   MFCC    64.1267  4.0893        0.9508     0.0038        0.9512     0.0036\n",
       "1   SPEC    62.7172  3.5433        0.9455     0.0048        0.9446     0.0036\n",
       "2    MEL    63.3569  4.3965        0.9808     0.0018        0.9937     0.0011"
      ]
     },
     "execution_count": 21,
     "metadata": {},
     "output_type": "execute_result"
    }
   ],
   "source": [
    "confidence.round(4)"
   ]
  },
  {
   "cell_type": "markdown",
   "metadata": {},
   "source": [
    "# calculate by hand - Feature Extraction"
   ]
  },
  {
   "cell_type": "code",
   "execution_count": 22,
   "metadata": {},
   "outputs": [],
   "source": [
    "confidence = pd.DataFrame(columns=[\"Feature_Extract\", 'Time_mean','Time+_', 'Keyword_mean', 'Keyword+_','Speaker_mean','Speaker+_'])\n",
    "confidence['Feature_Extract'] = Perfomance_Feature_Extract['Feature_Extract'].unique() "
   ]
  },
  {
   "cell_type": "code",
   "execution_count": 23,
   "metadata": {},
   "outputs": [],
   "source": [
    "t_value =  2.262 # df=10-1, alpha = 0.05, two tails\n",
    "def CI_95(data):\n",
    "    n=len(data)\n",
    "    x_bar = data.mean()\n",
    "    x_std = data.std()\n",
    "    CI = t_value*x_std/np.sqrt(n)\n",
    "    return x_bar, CI"
   ]
  },
  {
   "cell_type": "code",
   "execution_count": 24,
   "metadata": {},
   "outputs": [
    {
     "data": {
      "text/html": [
       "<div>\n",
       "<style scoped>\n",
       "    .dataframe tbody tr th:only-of-type {\n",
       "        vertical-align: middle;\n",
       "    }\n",
       "\n",
       "    .dataframe tbody tr th {\n",
       "        vertical-align: top;\n",
       "    }\n",
       "\n",
       "    .dataframe thead th {\n",
       "        text-align: right;\n",
       "    }\n",
       "</style>\n",
       "<table border=\"1\" class=\"dataframe\">\n",
       "  <thead>\n",
       "    <tr style=\"text-align: right;\">\n",
       "      <th></th>\n",
       "      <th>Feature_Extract</th>\n",
       "      <th>Time_mean</th>\n",
       "      <th>Time+_</th>\n",
       "      <th>Keyword_mean</th>\n",
       "      <th>Keyword+_</th>\n",
       "      <th>Speaker_mean</th>\n",
       "      <th>Speaker+_</th>\n",
       "    </tr>\n",
       "  </thead>\n",
       "  <tbody>\n",
       "    <tr>\n",
       "      <th>0</th>\n",
       "      <td>RestNet50</td>\n",
       "      <td>63.3569</td>\n",
       "      <td>4.39655</td>\n",
       "      <td>0.98084</td>\n",
       "      <td>0.0017818</td>\n",
       "      <td>0.99372</td>\n",
       "      <td>0.00111979</td>\n",
       "    </tr>\n",
       "    <tr>\n",
       "      <th>1</th>\n",
       "      <td>VGG16</td>\n",
       "      <td>59.8605</td>\n",
       "      <td>1.60685</td>\n",
       "      <td>0.91215</td>\n",
       "      <td>0.00496442</td>\n",
       "      <td>0.88178</td>\n",
       "      <td>0.0035521</td>\n",
       "    </tr>\n",
       "    <tr>\n",
       "      <th>2</th>\n",
       "      <td>INCEPTION_Resnet_v2</td>\n",
       "      <td>93.2789</td>\n",
       "      <td>5.55484</td>\n",
       "      <td>0.94163</td>\n",
       "      <td>0.00586756</td>\n",
       "      <td>0.8952</td>\n",
       "      <td>0.00655269</td>\n",
       "    </tr>\n",
       "  </tbody>\n",
       "</table>\n",
       "</div>"
      ],
      "text/plain": [
       "       Feature_Extract Time_mean   Time+_ Keyword_mean   Keyword+_  \\\n",
       "0            RestNet50   63.3569  4.39655      0.98084   0.0017818   \n",
       "1                VGG16   59.8605  1.60685      0.91215  0.00496442   \n",
       "2  INCEPTION_Resnet_v2   93.2789  5.55484      0.94163  0.00586756   \n",
       "\n",
       "  Speaker_mean   Speaker+_  \n",
       "0      0.99372  0.00111979  \n",
       "1      0.88178   0.0035521  \n",
       "2       0.8952  0.00655269  "
      ]
     },
     "execution_count": 24,
     "metadata": {},
     "output_type": "execute_result"
    }
   ],
   "source": [
    "for k in Perfomance_Feature_Extract['Feature_Extract'].unique():\n",
    "    confidence.loc[confidence['Feature_Extract'] == k ,['Time_mean','Time+_']] = CI_95(Perfomance_Feature_Extract.loc[Perfomance_Feature_Extract['Feature_Extract'] == k ,'Time']) \n",
    "    confidence.loc[confidence['Feature_Extract'] == k ,['Keyword_mean', 'Keyword+_']] = CI_95(Perfomance_Feature_Extract.loc[Perfomance_Feature_Extract['Feature_Extract'] == k ,'Command_Acc_p15']) \n",
    "    confidence.loc[confidence['Feature_Extract'] == k ,['Speaker_mean','Speaker+_']] = CI_95(Perfomance_Feature_Extract.loc[Perfomance_Feature_Extract['Feature_Extract'] == k ,'Partcp_Acc_p15'])  \n",
    "confidence"
   ]
  },
  {
   "cell_type": "code",
   "execution_count": 25,
   "metadata": {},
   "outputs": [],
   "source": [
    "confidence[['Time_mean','Time+_', 'Keyword_mean', 'Keyword+_','Speaker_mean','Speaker+_']] = confidence[['Time_mean','Time+_', 'Keyword_mean', 'Keyword+_','Speaker_mean','Speaker+_']].astype('float')"
   ]
  },
  {
   "cell_type": "code",
   "execution_count": 26,
   "metadata": {},
   "outputs": [
    {
     "data": {
      "text/html": [
       "<div>\n",
       "<style scoped>\n",
       "    .dataframe tbody tr th:only-of-type {\n",
       "        vertical-align: middle;\n",
       "    }\n",
       "\n",
       "    .dataframe tbody tr th {\n",
       "        vertical-align: top;\n",
       "    }\n",
       "\n",
       "    .dataframe thead th {\n",
       "        text-align: right;\n",
       "    }\n",
       "</style>\n",
       "<table border=\"1\" class=\"dataframe\">\n",
       "  <thead>\n",
       "    <tr style=\"text-align: right;\">\n",
       "      <th></th>\n",
       "      <th>Feature_Extract</th>\n",
       "      <th>Time_mean</th>\n",
       "      <th>Time+_</th>\n",
       "      <th>Keyword_mean</th>\n",
       "      <th>Keyword+_</th>\n",
       "      <th>Speaker_mean</th>\n",
       "      <th>Speaker+_</th>\n",
       "    </tr>\n",
       "  </thead>\n",
       "  <tbody>\n",
       "    <tr>\n",
       "      <th>0</th>\n",
       "      <td>RestNet50</td>\n",
       "      <td>63.3569</td>\n",
       "      <td>4.3965</td>\n",
       "      <td>0.9808</td>\n",
       "      <td>0.0018</td>\n",
       "      <td>0.9937</td>\n",
       "      <td>0.0011</td>\n",
       "    </tr>\n",
       "    <tr>\n",
       "      <th>1</th>\n",
       "      <td>VGG16</td>\n",
       "      <td>59.8605</td>\n",
       "      <td>1.6069</td>\n",
       "      <td>0.9122</td>\n",
       "      <td>0.0050</td>\n",
       "      <td>0.8818</td>\n",
       "      <td>0.0036</td>\n",
       "    </tr>\n",
       "    <tr>\n",
       "      <th>2</th>\n",
       "      <td>INCEPTION_Resnet_v2</td>\n",
       "      <td>93.2789</td>\n",
       "      <td>5.5548</td>\n",
       "      <td>0.9416</td>\n",
       "      <td>0.0059</td>\n",
       "      <td>0.8952</td>\n",
       "      <td>0.0066</td>\n",
       "    </tr>\n",
       "  </tbody>\n",
       "</table>\n",
       "</div>"
      ],
      "text/plain": [
       "       Feature_Extract  Time_mean  Time+_  Keyword_mean  Keyword+_  \\\n",
       "0            RestNet50    63.3569  4.3965        0.9808     0.0018   \n",
       "1                VGG16    59.8605  1.6069        0.9122     0.0050   \n",
       "2  INCEPTION_Resnet_v2    93.2789  5.5548        0.9416     0.0059   \n",
       "\n",
       "   Speaker_mean  Speaker+_  \n",
       "0        0.9937     0.0011  \n",
       "1        0.8818     0.0036  \n",
       "2        0.8952     0.0066  "
      ]
     },
     "execution_count": 26,
     "metadata": {},
     "output_type": "execute_result"
    }
   ],
   "source": [
    "confidence.round(4)"
   ]
  },
  {
   "cell_type": "code",
   "execution_count": null,
   "metadata": {},
   "outputs": [],
   "source": []
  },
  {
   "cell_type": "code",
   "execution_count": null,
   "metadata": {},
   "outputs": [],
   "source": []
  }
 ],
 "metadata": {
  "kernelspec": {
   "display_name": "Python 3",
   "language": "python",
   "name": "python3"
  },
  "language_info": {
   "codemirror_mode": {
    "name": "ipython",
    "version": 3
   },
   "file_extension": ".py",
   "mimetype": "text/x-python",
   "name": "python",
   "nbconvert_exporter": "python",
   "pygments_lexer": "ipython3",
   "version": "3.8.5"
  }
 },
 "nbformat": 4,
 "nbformat_minor": 5
}
