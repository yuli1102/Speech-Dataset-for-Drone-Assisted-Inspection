{
 "cells": [
  {
   "cell_type": "code",
   "execution_count": 1,
   "metadata": {},
   "outputs": [],
   "source": [
    "import os\n",
    "os.environ[\"CUDA_DEVICE_ORDER\"] = \"PCI_BUS_ID\"\n",
    "os.environ[\"CUDA_VISIBLE_DEVICES\"] = \"1\"   #(xxxx is your specific GPU ID)"
   ]
  },
  {
   "cell_type": "code",
   "execution_count": 2,
   "metadata": {},
   "outputs": [],
   "source": [
    "from tensorflow.keras.applications import ResNet50\n",
    "from tensorflow.keras.applications.resnet50 import preprocess_input\n",
    "from tensorflow.keras.layers import Activation, Dense, Flatten, GlobalAveragePooling2D\n",
    "from tensorflow.keras.preprocessing import image\n",
    "from tensorflow.keras.models import Sequential\n",
    "import numpy as np\n",
    "import matplotlib.pyplot as plt\n",
    "import pandas as pd\n",
    "import os\n",
    "from sklearn.preprocessing import MinMaxScaler\n",
    "import seaborn as sns\n",
    "from PIL import Image\n",
    "import tensorflow as tf\n",
    "from tensorflow.keras.preprocessing.image import ImageDataGenerator\n",
    "# from MyEarlyStopping import MyEarlyStopping\n",
    "import warnings\n",
    "warnings.simplefilter(action='ignore', category=FutureWarning)\n",
    "# from keras.optimizers import adam\n",
    "from sklearn.metrics.pairwise import cosine_similarity\n",
    "import timeit\n",
    "from sklearn.metrics import confusion_matrix\n",
    "import sklearn.metrics as metrics\n",
    "from sklearn.preprocessing import LabelEncoder  \n",
    "from sklearn.metrics import average_precision_score, precision_recall_curve"
   ]
  },
  {
   "cell_type": "markdown",
   "metadata": {},
   "source": [
    "# load dataset "
   ]
  },
  {
   "cell_type": "code",
   "execution_count": 3,
   "metadata": {},
   "outputs": [],
   "source": [
    "train_number = 5\n",
    "train_image = 20 #10:20%, 20: 40%, 30:60%\n",
    "train_image_s2 = 30 #10:20%, 20: 40%, 30:60%"
   ]
  },
  {
   "cell_type": "markdown",
   "metadata": {},
   "source": [
    "## Training dataset (40%)"
   ]
  },
  {
   "cell_type": "code",
   "execution_count": 4,
   "metadata": {},
   "outputs": [
    {
     "name": "stdout",
     "output_type": "stream",
     "text": [
      "Found 1714 images belonging to 10 classes.\n"
     ]
    }
   ],
   "source": [
    "train_data = ImageDataGenerator(preprocessing_function=preprocess_input)\n",
    "train_generator = train_data.flow_from_directory('/data/home/cou/yuli5/Audio/Audio_MEL_Data/train',\n",
    "                                                batch_size=1,\n",
    "                                                target_size=(224,224),\n",
    "                                                class_mode='categorical',\n",
    "                                               shuffle=False)"
   ]
  },
  {
   "cell_type": "code",
   "execution_count": 5,
   "metadata": {},
   "outputs": [],
   "source": [
    "image_names = train_generator.filenames\n",
    "image_no = [i.split(\"/\")[1].split(\"_\")[2].split(\".\")[0] for i in image_names]\n",
    "image_no = np.array(list(map(int, image_no)))\n",
    "ALL_participant_class = [i.split(\"/\")[1].split(\"_\")[1] for i in image_names]\n",
    "ALL_participant_class = np.array(list(map(int, ALL_participant_class)))\n",
    "command_class = train_generator.classes\n",
    "All_participant_class = tf.keras.utils.to_categorical(ALL_participant_class-1, num_classes=train_number)\n",
    "All_command_class = tf.keras.utils.to_categorical(command_class, num_classes=10)\n",
    "All_command_uniform = All_command_class*0+1/10"
   ]
  },
  {
   "cell_type": "code",
   "execution_count": 6,
   "metadata": {},
   "outputs": [],
   "source": [
    "All_Inputs = [next(train_generator)[0][0] for _ in range(len(train_generator))]\n",
    "All_Inputs = np.array(All_Inputs)"
   ]
  },
  {
   "cell_type": "code",
   "execution_count": 7,
   "metadata": {},
   "outputs": [],
   "source": [
    "select_indexs_train = ((image_no<train_image)&(ALL_participant_class!=2))|((image_no<train_image_s2)&(ALL_participant_class==2))\n",
    "Train_Inputs = All_Inputs[select_indexs_train]\n",
    "Train_participant_class = All_participant_class[select_indexs_train]\n",
    "Train_participant_uniform = Train_participant_class*0+1/train_number\n",
    "Train_command_class = All_command_class[select_indexs_train]\n",
    "Train_command_uniform = Train_command_class*0+1/10\n",
    "# sum(Train_participant_class)\n"
   ]
  },
  {
   "cell_type": "code",
   "execution_count": null,
   "metadata": {},
   "outputs": [],
   "source": []
  },
  {
   "cell_type": "markdown",
   "metadata": {},
   "source": [
    "## Test dataset (20%)"
   ]
  },
  {
   "cell_type": "code",
   "execution_count": 8,
   "metadata": {},
   "outputs": [
    {
     "name": "stdout",
     "output_type": "stream",
     "text": [
      "Found 543 images belonging to 10 classes.\n"
     ]
    }
   ],
   "source": [
    "test_data = ImageDataGenerator(preprocessing_function=preprocess_input)\n",
    "test_generator = test_data.flow_from_directory('/data/home/cou/yuli5/Audio/Audio_MEL_Data/test',\n",
    "                                                batch_size=1,\n",
    "                                                target_size=(224,224),\n",
    "                                                class_mode='categorical',\n",
    "                                                shuffle=False)"
   ]
  },
  {
   "cell_type": "code",
   "execution_count": 9,
   "metadata": {},
   "outputs": [],
   "source": [
    "image_names = test_generator.filenames\n",
    "participant_class = [i.split(\"/\", 1)[1].split(\"_\")[1] for i in image_names]\n",
    "test_unit_participant_class = np.array(list(map(int, participant_class)))\n",
    "test_unit_command_class = test_generator.classes\n",
    "Test_participant_class = tf.keras.utils.to_categorical(test_unit_participant_class-1, num_classes=train_number)\n",
    "Test_participant_uniform = Test_participant_class*0+1/train_number\n",
    "Test_command_class = tf.keras.utils.to_categorical(test_unit_command_class, num_classes=10)\n",
    "Test_command_uniform = Test_command_class*0+1/10"
   ]
  },
  {
   "cell_type": "code",
   "execution_count": 10,
   "metadata": {},
   "outputs": [],
   "source": [
    "Test_Inputs = [next(test_generator)[0][0] for _ in range(len(test_generator))]\n",
    "Test_Inputs = np.array(Test_Inputs)"
   ]
  },
  {
   "cell_type": "code",
   "execution_count": 11,
   "metadata": {},
   "outputs": [],
   "source": [
    "Test_Inputs_1 = Test_Inputs[np.where(test_unit_participant_class == 1)]\n",
    "Test_command_class_1 = Test_command_class[np.where(test_unit_participant_class == 1)]\n",
    "Test_Inputs_2 = Test_Inputs[np.where(test_unit_participant_class == 2)]\n",
    "Test_command_class_2 = Test_command_class[np.where(test_unit_participant_class == 2)]\n",
    "Test_Inputs_3 = Test_Inputs[np.where(test_unit_participant_class == 3)]\n",
    "Test_command_class_3 = Test_command_class[np.where(test_unit_participant_class == 3)]\n",
    "Test_Inputs_4 = Test_Inputs[np.where(test_unit_participant_class == 4)]\n",
    "Test_command_class_4 = Test_command_class[np.where(test_unit_participant_class == 4)]\n",
    "Test_Inputs_5 = Test_Inputs[np.where(test_unit_participant_class == 5)]\n",
    "Test_command_class_5 = Test_command_class[np.where(test_unit_participant_class == 5)]"
   ]
  },
  {
   "cell_type": "markdown",
   "metadata": {},
   "source": [
    "## Speaker 6 Test dataset # "
   ]
  },
  {
   "cell_type": "code",
   "execution_count": 12,
   "metadata": {},
   "outputs": [
    {
     "name": "stdout",
     "output_type": "stream",
     "text": [
      "Found 100 images belonging to 10 classes.\n"
     ]
    }
   ],
   "source": [
    "test_data_6 = ImageDataGenerator(preprocessing_function=preprocess_input)\n",
    "test_generator_6 = test_data_6.flow_from_directory('/data/home/cou/yuli5/Audio/Audio_MEL_subject/p_6_split/test',\n",
    "                                                batch_size=1,\n",
    "                                                target_size=(224,224),\n",
    "                                                class_mode='categorical',\n",
    "                                                shuffle=False)"
   ]
  },
  {
   "cell_type": "code",
   "execution_count": 13,
   "metadata": {},
   "outputs": [],
   "source": [
    "image_names = test_generator_6.filenames\n",
    "command_class = [i.split(\"/\", 1)[0]for i in image_names]\n",
    "le = LabelEncoder()\n",
    "test_unit_command_class_6 = le.fit_transform(command_class)\n",
    "Test_command_class_6 = tf.keras.utils.to_categorical(test_unit_command_class_6, num_classes=10)"
   ]
  },
  {
   "cell_type": "code",
   "execution_count": 14,
   "metadata": {},
   "outputs": [],
   "source": [
    "Test_Inputs_6 = [next(test_generator_6)[0][0] for _ in range(len(test_generator_6))]\n",
    "Test_Inputs_6 = np.array(Test_Inputs_6)"
   ]
  },
  {
   "cell_type": "markdown",
   "metadata": {},
   "source": [
    "## Speaker 7 Test dataset "
   ]
  },
  {
   "cell_type": "code",
   "execution_count": 15,
   "metadata": {},
   "outputs": [
    {
     "name": "stdout",
     "output_type": "stream",
     "text": [
      "Found 125 images belonging to 10 classes.\n"
     ]
    }
   ],
   "source": [
    "test_data_7 = ImageDataGenerator(preprocessing_function=preprocess_input)\n",
    "test_generator_7 = test_data_6.flow_from_directory('/data/home/cou/yuli5/Audio/Audio_MEL_subject/p_7_split/test',\n",
    "                                                batch_size=1,\n",
    "                                                target_size=(224,224),\n",
    "                                                class_mode='categorical',\n",
    "                                                shuffle=False)"
   ]
  },
  {
   "cell_type": "code",
   "execution_count": 16,
   "metadata": {},
   "outputs": [],
   "source": [
    "image_names = test_generator_7.filenames\n",
    "command_class = [i.split(\"/\", 1)[0]for i in image_names]\n",
    "le = LabelEncoder()\n",
    "test_unit_command_class_7 = le.fit_transform(command_class)\n",
    "Test_command_class_7 = tf.keras.utils.to_categorical(test_unit_command_class_7, num_classes=10)"
   ]
  },
  {
   "cell_type": "code",
   "execution_count": 17,
   "metadata": {},
   "outputs": [],
   "source": [
    "Test_Inputs_7 = [next(test_generator_7)[0][0] for _ in range(len(test_generator_7))]\n",
    "Test_Inputs_7 = np.array(Test_Inputs_7)"
   ]
  },
  {
   "cell_type": "markdown",
   "metadata": {},
   "source": [
    "## Speaker 8 Test dataset "
   ]
  },
  {
   "cell_type": "code",
   "execution_count": 18,
   "metadata": {},
   "outputs": [
    {
     "name": "stdout",
     "output_type": "stream",
     "text": [
      "Found 101 images belonging to 10 classes.\n"
     ]
    }
   ],
   "source": [
    "test_data_8 = ImageDataGenerator(preprocessing_function=preprocess_input)\n",
    "test_generator_8 = test_data_8.flow_from_directory('/data/home/cou/yuli5/Audio/Audio_MEL_subject/p_8_split/test',\n",
    "                                                batch_size=1,\n",
    "                                                target_size=(224,224),\n",
    "                                                class_mode='categorical',\n",
    "                                                shuffle=False)"
   ]
  },
  {
   "cell_type": "code",
   "execution_count": 19,
   "metadata": {},
   "outputs": [],
   "source": [
    "image_names = test_generator_8.filenames\n",
    "command_class = [i.split(\"/\", 1)[0]for i in image_names]\n",
    "le = LabelEncoder()\n",
    "test_unit_command_class_8 = le.fit_transform(command_class)\n",
    "Test_command_class_8 = tf.keras.utils.to_categorical(test_unit_command_class_8, num_classes=10)"
   ]
  },
  {
   "cell_type": "code",
   "execution_count": 20,
   "metadata": {},
   "outputs": [],
   "source": [
    "Test_Inputs_8 = [next(test_generator_8)[0][0] for _ in range(len(test_generator_8))]\n",
    "Test_Inputs_8 = np.array(Test_Inputs_8)"
   ]
  },
  {
   "cell_type": "markdown",
   "metadata": {},
   "source": [
    "# load trained model"
   ]
  },
  {
   "cell_type": "code",
   "execution_count": 21,
   "metadata": {
    "scrolled": true
   },
   "outputs": [
    {
     "name": "stdout",
     "output_type": "stream",
     "text": [
      "WARNING:tensorflow:Error in loading the saved optimizer state. As a result, your model is starting with a freshly initialized optimizer.\n"
     ]
    }
   ],
   "source": [
    "resnet_model = tf.keras.models.load_model('Initial_group_model_mix_20&s2_30_0608.h5')"
   ]
  },
  {
   "cell_type": "code",
   "execution_count": 22,
   "metadata": {
    "scrolled": true
   },
   "outputs": [],
   "source": [
    "Embedding_model = tf.keras.models.Model(inputs=resnet_model.input,\n",
    "                                 outputs=resnet_model.get_layer(\"flatten_1\").output)"
   ]
  },
  {
   "cell_type": "markdown",
   "metadata": {},
   "source": [
    "# get average embedding value based on training data"
   ]
  },
  {
   "cell_type": "code",
   "execution_count": 23,
   "metadata": {},
   "outputs": [],
   "source": [
    "# average all training subject embedding\n",
    "embd_sub_1 = Embedding_model.predict(All_Inputs[ALL_participant_class==1]).mean(axis=0).reshape(1, -1)\n",
    "embd_sub_2 = Embedding_model.predict(All_Inputs[ALL_participant_class==2]).mean(axis=0).reshape(1, -1)\n",
    "embd_sub_3 = Embedding_model.predict(All_Inputs[ALL_participant_class==3]).mean(axis=0).reshape(1, -1)\n",
    "embd_sub_4 = Embedding_model.predict(All_Inputs[ALL_participant_class==4]).mean(axis=0).reshape(1, -1)\n",
    "embd_sub_5 = Embedding_model.predict(All_Inputs[ALL_participant_class==5]).mean(axis=0).reshape(1, -1)\n",
    "embd_allsubs = Embedding_model.predict(All_Inputs).mean(axis=0).reshape(1, -1)"
   ]
  },
  {
   "cell_type": "markdown",
   "metadata": {},
   "source": [
    "# end-to-end speaker verification "
   ]
  },
  {
   "cell_type": "markdown",
   "metadata": {},
   "source": [
    "## calculation "
   ]
  },
  {
   "cell_type": "code",
   "execution_count": 24,
   "metadata": {},
   "outputs": [],
   "source": [
    "CosSimty = pd.DataFrame(columns=[\"Real_sub\",\"cos_sub_1\",\"cos_sub_2\",\"cos_sub_3\",\"cos_sub_4\",\"cos_sub_5\",\"cos_all\"])"
   ]
  },
  {
   "cell_type": "code",
   "execution_count": 25,
   "metadata": {},
   "outputs": [],
   "source": [
    "#speaker 1-5\n",
    "for i in range(1,6):\n",
    "    test_Data = Test_Inputs[np.where(test_unit_participant_class == i)]\n",
    "    temp = pd.DataFrame(columns=[\"Real_sub\",\"cos_sub_1\",\"cos_sub_2\",\"cos_sub_3\",\"cos_sub_4\",\"cos_sub_5\",\"cos_all\"])\n",
    "    temp[\"Real_sub\"] = [i]*len( test_Data )\n",
    "    temp[\"cos_sub_1\"]= cosine_similarity(Embedding_model.predict( test_Data ), embd_sub_1)\n",
    "    temp[\"cos_sub_2\"]= cosine_similarity(Embedding_model.predict( test_Data ), embd_sub_2)\n",
    "    temp[\"cos_sub_3\"]= cosine_similarity(Embedding_model.predict( test_Data ), embd_sub_3)\n",
    "    temp[\"cos_sub_4\"]= cosine_similarity(Embedding_model.predict( test_Data ), embd_sub_4)\n",
    "    temp[\"cos_sub_5\"]= cosine_similarity(Embedding_model.predict( test_Data ), embd_sub_5)\n",
    "    temp[\"cos_all\"]= cosine_similarity(Embedding_model.predict( test_Data ), embd_allsubs)\n",
    "\n",
    "    CosSimty = CosSimty.append(temp,ignore_index=True)\n",
    "\n",
    "#speaker 6\n",
    "temp = pd.DataFrame(columns=[\"Real_sub\",\"cos_sub_1\",\"cos_sub_2\",\"cos_sub_3\",\"cos_sub_4\",\"cos_sub_5\",\"cos_all\"])\n",
    "temp[\"Real_sub\"] = [6]*len( Test_Inputs_6)\n",
    "temp[\"cos_sub_1\"]= cosine_similarity(Embedding_model.predict( Test_Inputs_6 ), embd_sub_1)\n",
    "temp[\"cos_sub_2\"]= cosine_similarity(Embedding_model.predict( Test_Inputs_6 ), embd_sub_2)\n",
    "temp[\"cos_sub_3\"]= cosine_similarity(Embedding_model.predict( Test_Inputs_6 ), embd_sub_3)\n",
    "temp[\"cos_sub_4\"]= cosine_similarity(Embedding_model.predict( Test_Inputs_6 ), embd_sub_4)\n",
    "temp[\"cos_sub_5\"]= cosine_similarity(Embedding_model.predict( Test_Inputs_6 ), embd_sub_5)\n",
    "temp[\"cos_all\"]= cosine_similarity(Embedding_model.predict( Test_Inputs_6 ), embd_allsubs)\n",
    "CosSimty = CosSimty.append(temp,ignore_index=True)\n",
    "\n",
    "#speaker 7\n",
    "temp = pd.DataFrame(columns=[\"Real_sub\",\"cos_sub_1\",\"cos_sub_2\",\"cos_sub_3\",\"cos_sub_4\",\"cos_sub_5\",\"cos_all\"])\n",
    "temp[\"Real_sub\"] = [7]*len( Test_Inputs_7 )\n",
    "temp[\"cos_sub_1\"]= cosine_similarity(Embedding_model.predict( Test_Inputs_7 ), embd_sub_1)\n",
    "temp[\"cos_sub_2\"]= cosine_similarity(Embedding_model.predict( Test_Inputs_7 ), embd_sub_2)\n",
    "temp[\"cos_sub_3\"]= cosine_similarity(Embedding_model.predict( Test_Inputs_7 ), embd_sub_3)\n",
    "temp[\"cos_sub_4\"]= cosine_similarity(Embedding_model.predict( Test_Inputs_7 ), embd_sub_4)\n",
    "temp[\"cos_sub_5\"]= cosine_similarity(Embedding_model.predict( Test_Inputs_7 ), embd_sub_5)\n",
    "temp[\"cos_all\"]= cosine_similarity(Embedding_model.predict( Test_Inputs_7 ), embd_allsubs)\n",
    "CosSimty = CosSimty.append(temp,ignore_index=True)\n",
    "\n",
    "#speaker 8\n",
    "temp = pd.DataFrame(columns=[\"Real_sub\",\"cos_sub_1\",\"cos_sub_2\",\"cos_sub_3\",\"cos_sub_4\",\"cos_sub_5\",\"cos_all\"])\n",
    "temp[\"Real_sub\"] = [8]*len( Test_Inputs_8 )\n",
    "temp[\"cos_sub_1\"]= cosine_similarity(Embedding_model.predict( Test_Inputs_8 ), embd_sub_1)\n",
    "temp[\"cos_sub_2\"]= cosine_similarity(Embedding_model.predict( Test_Inputs_8 ), embd_sub_2)\n",
    "temp[\"cos_sub_3\"]= cosine_similarity(Embedding_model.predict( Test_Inputs_8 ), embd_sub_3)\n",
    "temp[\"cos_sub_4\"]= cosine_similarity(Embedding_model.predict( Test_Inputs_8 ), embd_sub_4)\n",
    "temp[\"cos_sub_5\"]= cosine_similarity(Embedding_model.predict( Test_Inputs_8 ), embd_sub_5)\n",
    "temp[\"cos_all\"]= cosine_similarity(Embedding_model.predict( Test_Inputs_8 ), embd_allsubs)\n",
    "CosSimty = CosSimty.append(temp,ignore_index=True)"
   ]
  },
  {
   "cell_type": "code",
   "execution_count": 26,
   "metadata": {},
   "outputs": [],
   "source": [
    "CosSimty.loc[CosSimty[\"Real_sub\"]<6,\"True_Label\"]=0\n",
    "CosSimty.loc[CosSimty[\"Real_sub\"]>5,\"True_Label\"]=1"
   ]
  },
  {
   "cell_type": "markdown",
   "metadata": {},
   "source": [
    "## verification using the average all"
   ]
  },
  {
   "cell_type": "code",
   "execution_count": 27,
   "metadata": {},
   "outputs": [],
   "source": [
    "y_test = CosSimty[\"True_Label\"]\n",
    "y_score = 1 - CosSimty[\"cos_all\"] # use 1- cosine similarity to set the external class as positive class 1\n",
    "# y_score = CosSimty[[\"cos_sub_1\",\"cos_sub_2\",\"cos_sub_3\",\"cos_sub_4\",\"cos_sub_5\"]].max(axis=1)"
   ]
  },
  {
   "cell_type": "code",
   "execution_count": 28,
   "metadata": {},
   "outputs": [],
   "source": [
    "precision, recall, thresholds = precision_recall_curve(y_test,y_score)\n",
    "average_precision = average_precision_score(y_test,y_score)"
   ]
  },
  {
   "cell_type": "code",
   "execution_count": 29,
   "metadata": {},
   "outputs": [
    {
     "data": {
      "text/plain": [
       "0.9753872418243521"
      ]
     },
     "execution_count": 29,
     "metadata": {},
     "output_type": "execute_result"
    }
   ],
   "source": [
    "average_precision"
   ]
  },
  {
   "cell_type": "code",
   "execution_count": 30,
   "metadata": {},
   "outputs": [
    {
     "data": {
      "image/png": "[encoded data removed]",
      "text/plain": [
       "<Figure size 432x288 with 1 Axes>"
      ]
     },
     "metadata": {
      "needs_background": "light"
     },
     "output_type": "display_data"
    }
   ],
   "source": [
    "plt.plot(recall, precision)\n",
    "plt.xlabel(\"Recall\")\n",
    "plt.ylabel(\"Precision\")\n",
    "plt.show()"
   ]
  },
  {
   "cell_type": "code",
   "execution_count": 31,
   "metadata": {},
   "outputs": [
    {
     "data": {
      "text/plain": [
       "(0.3, 1.0)"
      ]
     },
     "execution_count": 31,
     "metadata": {},
     "output_type": "execute_result"
    },
    {
     "data": {
      "image/png": "[encoded data removed]",
      "text/plain": [
       "<Figure size 432x288 with 1 Axes>"
      ]
     },
     "metadata": {
      "needs_background": "light"
     },
     "output_type": "display_data"
    }
   ],
   "source": [
    "sns.boxplot(data=CosSimty, x=\"Real_sub\",y=\"cos_all\")\n",
    "plt.ylim(0.3,1)"
   ]
  },
  {
   "cell_type": "code",
   "execution_count": 32,
   "metadata": {},
   "outputs": [
    {
     "data": {
      "text/html": [
       "<div>\n",
       "<style scoped>\n",
       "    .dataframe tbody tr th:only-of-type {\n",
       "        vertical-align: middle;\n",
       "    }\n",
       "\n",
       "    .dataframe tbody tr th {\n",
       "        vertical-align: top;\n",
       "    }\n",
       "\n",
       "    .dataframe thead th {\n",
       "        text-align: right;\n",
       "    }\n",
       "</style>\n",
       "<table border=\"1\" class=\"dataframe\">\n",
       "  <thead>\n",
       "    <tr style=\"text-align: right;\">\n",
       "      <th></th>\n",
       "      <th>cos_sub_1</th>\n",
       "      <th>cos_sub_2</th>\n",
       "      <th>cos_sub_3</th>\n",
       "      <th>cos_sub_4</th>\n",
       "      <th>cos_sub_5</th>\n",
       "      <th>cos_all</th>\n",
       "      <th>True_Label</th>\n",
       "    </tr>\n",
       "    <tr>\n",
       "      <th>Real_sub</th>\n",
       "      <th></th>\n",
       "      <th></th>\n",
       "      <th></th>\n",
       "      <th></th>\n",
       "      <th></th>\n",
       "      <th></th>\n",
       "      <th></th>\n",
       "    </tr>\n",
       "  </thead>\n",
       "  <tbody>\n",
       "    <tr>\n",
       "      <th>1</th>\n",
       "      <td>0.825676</td>\n",
       "      <td>0.756935</td>\n",
       "      <td>0.779221</td>\n",
       "      <td>0.796504</td>\n",
       "      <td>0.743512</td>\n",
       "      <td>0.802539</td>\n",
       "      <td>0.0</td>\n",
       "    </tr>\n",
       "    <tr>\n",
       "      <th>2</th>\n",
       "      <td>0.780718</td>\n",
       "      <td>0.851721</td>\n",
       "      <td>0.779294</td>\n",
       "      <td>0.807955</td>\n",
       "      <td>0.759369</td>\n",
       "      <td>0.817286</td>\n",
       "      <td>0.0</td>\n",
       "    </tr>\n",
       "    <tr>\n",
       "      <th>3</th>\n",
       "      <td>0.770628</td>\n",
       "      <td>0.744818</td>\n",
       "      <td>0.813817</td>\n",
       "      <td>0.783450</td>\n",
       "      <td>0.777552</td>\n",
       "      <td>0.800724</td>\n",
       "      <td>0.0</td>\n",
       "    </tr>\n",
       "    <tr>\n",
       "      <th>4</th>\n",
       "      <td>0.798968</td>\n",
       "      <td>0.788685</td>\n",
       "      <td>0.794797</td>\n",
       "      <td>0.829645</td>\n",
       "      <td>0.769385</td>\n",
       "      <td>0.818692</td>\n",
       "      <td>0.0</td>\n",
       "    </tr>\n",
       "    <tr>\n",
       "      <th>5</th>\n",
       "      <td>0.733073</td>\n",
       "      <td>0.720732</td>\n",
       "      <td>0.772463</td>\n",
       "      <td>0.750820</td>\n",
       "      <td>0.806893</td>\n",
       "      <td>0.778029</td>\n",
       "      <td>0.0</td>\n",
       "    </tr>\n",
       "    <tr>\n",
       "      <th>6</th>\n",
       "      <td>0.557372</td>\n",
       "      <td>0.542630</td>\n",
       "      <td>0.623839</td>\n",
       "      <td>0.554365</td>\n",
       "      <td>0.636424</td>\n",
       "      <td>0.599855</td>\n",
       "      <td>1.0</td>\n",
       "    </tr>\n",
       "    <tr>\n",
       "      <th>7</th>\n",
       "      <td>0.602207</td>\n",
       "      <td>0.555813</td>\n",
       "      <td>0.628884</td>\n",
       "      <td>0.598360</td>\n",
       "      <td>0.627562</td>\n",
       "      <td>0.620072</td>\n",
       "      <td>1.0</td>\n",
       "    </tr>\n",
       "    <tr>\n",
       "      <th>8</th>\n",
       "      <td>0.608149</td>\n",
       "      <td>0.554504</td>\n",
       "      <td>0.604653</td>\n",
       "      <td>0.609912</td>\n",
       "      <td>0.602623</td>\n",
       "      <td>0.613048</td>\n",
       "      <td>1.0</td>\n",
       "    </tr>\n",
       "  </tbody>\n",
       "</table>\n",
       "</div>"
      ],
      "text/plain": [
       "          cos_sub_1  cos_sub_2  cos_sub_3  cos_sub_4  cos_sub_5   cos_all  \\\n",
       "Real_sub                                                                    \n",
       "1          0.825676   0.756935   0.779221   0.796504   0.743512  0.802539   \n",
       "2          0.780718   0.851721   0.779294   0.807955   0.759369  0.817286   \n",
       "3          0.770628   0.744818   0.813817   0.783450   0.777552  0.800724   \n",
       "4          0.798968   0.788685   0.794797   0.829645   0.769385  0.818692   \n",
       "5          0.733073   0.720732   0.772463   0.750820   0.806893  0.778029   \n",
       "6          0.557372   0.542630   0.623839   0.554365   0.636424  0.599855   \n",
       "7          0.602207   0.555813   0.628884   0.598360   0.627562  0.620072   \n",
       "8          0.608149   0.554504   0.604653   0.609912   0.602623  0.613048   \n",
       "\n",
       "          True_Label  \n",
       "Real_sub              \n",
       "1                0.0  \n",
       "2                0.0  \n",
       "3                0.0  \n",
       "4                0.0  \n",
       "5                0.0  \n",
       "6                1.0  \n",
       "7                1.0  \n",
       "8                1.0  "
      ]
     },
     "execution_count": 32,
     "metadata": {},
     "output_type": "execute_result"
    }
   ],
   "source": [
    "CosSimty.groupby([\"Real_sub\"]).mean()"
   ]
  },
  {
   "cell_type": "code",
   "execution_count": 33,
   "metadata": {},
   "outputs": [],
   "source": [
    "Speaker_Verfication_Performance = pd.read_csv(\"Speaker_Verfication_Performance_0920_Externalas1.csv\")\n",
    "# Speaker_Verfication_Performance = pd.DataFrame()\n",
    "data = pd.DataFrame()"
   ]
  },
  {
   "cell_type": "code",
   "execution_count": 34,
   "metadata": {},
   "outputs": [],
   "source": [
    "data['Recall'] = recall\n",
    "data['Precision'] = precision\n",
    "data['Thresholds'] = np.append(thresholds,\"nan\")\n",
    "data['Data'] =  'Local Data'\n",
    "data['Train Size'] =  '20&s2_30'\n",
    "data['Speaker Number'] =  5\n",
    "data['D-vector'] =  'flatten_1'\n",
    "Speaker_Verfication_Performance = pd.concat([Speaker_Verfication_Performance,data], ignore_index=True)"
   ]
  },
  {
   "cell_type": "code",
   "execution_count": 35,
   "metadata": {},
   "outputs": [],
   "source": [
    "Speaker_Verfication_Performance.to_csv('Speaker_Verfication_Performance_0920_Externalas1.csv',index=False)"
   ]
  },
  {
   "cell_type": "code",
   "execution_count": null,
   "metadata": {},
   "outputs": [],
   "source": []
  },
  {
   "cell_type": "code",
   "execution_count": null,
   "metadata": {},
   "outputs": [],
   "source": []
  }
 ],
 "metadata": {
  "kernelspec": {
   "display_name": "Python 3",
   "language": "python",
   "name": "python3"
  },
  "language_info": {
   "codemirror_mode": {
    "name": "ipython",
    "version": 3
   },
   "file_extension": ".py",
   "mimetype": "text/x-python",
   "name": "python",
   "nbconvert_exporter": "python",
   "pygments_lexer": "ipython3",
   "version": "3.6.9"
  }
 },
 "nbformat": 4,
 "nbformat_minor": 4
}
