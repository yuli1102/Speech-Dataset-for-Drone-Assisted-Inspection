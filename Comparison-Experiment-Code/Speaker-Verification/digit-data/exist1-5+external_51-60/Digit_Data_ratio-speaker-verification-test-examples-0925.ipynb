{
 "cells": [
  {
   "cell_type": "code",
   "execution_count": 1,
   "metadata": {},
   "outputs": [],
   "source": [
    "import os\n",
    "os.environ[\"CUDA_DEVICE_ORDER\"] = \"PCI_BUS_ID\"\n",
    "os.environ[\"CUDA_VISIBLE_DEVICES\"] = \"1\"   #(xxxx is your specific GPU ID)"
   ]
  },
  {
   "cell_type": "code",
   "execution_count": 2,
   "metadata": {},
   "outputs": [],
   "source": [
    "from tensorflow.keras.applications import ResNet50\n",
    "from tensorflow.keras.applications.resnet50 import preprocess_input\n",
    "from tensorflow.keras.layers import Activation, Dense, Flatten, GlobalAveragePooling2D\n",
    "from tensorflow.keras.preprocessing import image\n",
    "from tensorflow.keras.models import Sequential\n",
    "import numpy as np\n",
    "import matplotlib.pyplot as plt\n",
    "import pandas as pd\n",
    "import os\n",
    "from sklearn.preprocessing import MinMaxScaler\n",
    "import seaborn as sns\n",
    "from PIL import Image\n",
    "import tensorflow as tf\n",
    "from tensorflow.keras.preprocessing.image import ImageDataGenerator\n",
    "# from MyEarlyStopping import MyEarlyStopping\n",
    "import warnings\n",
    "warnings.simplefilter(action='ignore', category=FutureWarning)\n",
    "# from keras.optimizers import adam\n",
    "from sklearn.metrics.pairwise import cosine_similarity\n",
    "import timeit\n",
    "from sklearn.metrics import confusion_matrix\n",
    "import sklearn.metrics as metrics\n",
    "from sklearn.preprocessing import LabelEncoder  \n",
    "from sklearn.metrics import average_precision_score, precision_recall_curve,auc,roc_curve,auc"
   ]
  },
  {
   "cell_type": "markdown",
   "metadata": {},
   "source": [
    "# load trained model"
   ]
  },
  {
   "cell_type": "code",
   "execution_count": 3,
   "metadata": {
    "scrolled": true
   },
   "outputs": [
    {
     "name": "stdout",
     "output_type": "stream",
     "text": [
      "WARNING:tensorflow:Error in loading the saved optimizer state. As a result, your model is starting with a freshly initialized optimizer.\n"
     ]
    }
   ],
   "source": [
    "resnet_model = tf.keras.models.load_model('Digital_data_Initial_group_model_0531_free&unfree.h5')"
   ]
  },
  {
   "cell_type": "code",
   "execution_count": 4,
   "metadata": {
    "scrolled": true
   },
   "outputs": [],
   "source": [
    "Embedding_model = tf.keras.models.Model(inputs=resnet_model.input,\n",
    "                                 outputs=resnet_model.get_layer(\"flatten_1\").output)"
   ]
  },
  {
   "cell_type": "markdown",
   "metadata": {},
   "source": [
    "## load data"
   ]
  },
  {
   "cell_type": "code",
   "execution_count": 5,
   "metadata": {},
   "outputs": [
    {
     "name": "stdout",
     "output_type": "stream",
     "text": [
      "Found 30000 images belonging to 10 classes.\n"
     ]
    }
   ],
   "source": [
    "All_data = ImageDataGenerator(preprocessing_function=preprocess_input)\n",
    "All_data_generator = All_data.flow_from_directory('/data/home/cou/yuli5/Audio/online_data_adaption/Mel_Audio_folder_digits',\n",
    "                                                batch_size=1,\n",
    "                                                target_size=(224,224),\n",
    "                                                class_mode='categorical',\n",
    "                                               shuffle=False)"
   ]
  },
  {
   "cell_type": "code",
   "execution_count": 6,
   "metadata": {},
   "outputs": [],
   "source": [
    "image_names = All_data_generator.filenames\n",
    "image_no = [i.split(\"/\")[1].split(\"_\")[2].split(\".\")[0] for i in image_names]\n",
    "image_no = np.array(list(map(int, image_no)))\n",
    "ALL_participant_class = [i.split(\"/\")[1].split(\"_\")[1] for i in image_names]\n",
    "ALL_participant_class = np.array(list(map(int, ALL_participant_class)))\n",
    "command_class = All_data_generator.classes\n",
    "All_participant_class = tf.keras.utils.to_categorical(ALL_participant_class-1, num_classes=60)\n",
    "All_command_class = tf.keras.utils.to_categorical(command_class, num_classes=10)\n",
    "All_command_uniform = All_command_class*0+1/10"
   ]
  },
  {
   "cell_type": "code",
   "execution_count": 7,
   "metadata": {},
   "outputs": [],
   "source": [
    "All_Inputs = [next(All_data_generator)[0][0] for _ in range(len(All_data_generator))]\n",
    "All_Inputs = np.array(All_Inputs)"
   ]
  },
  {
   "cell_type": "code",
   "execution_count": 8,
   "metadata": {},
   "outputs": [],
   "source": [
    "# image_no<=20 means every word repeat 20 times \n",
    "s_number = 5 # ALL_participant_class  the subject index\n",
    "\n",
    "select_indexs_train = (image_no<=19)&(ALL_participant_class<=s_number)\n",
    "Train_Inputs = All_Inputs[select_indexs_train]\n",
    "Train_participant_class = All_participant_class[select_indexs_train][:,0:s_number]\n",
    "Train_participants = np.argmax(Train_participant_class, axis=1) +1\n",
    "Train_participant_uniform = Train_participant_class*0+1/s_number\n",
    "Train_command_class = All_command_class[select_indexs_train]\n",
    "Train_command_uniform = Train_command_class*0+1/10"
   ]
  },
  {
   "cell_type": "code",
   "execution_count": 9,
   "metadata": {},
   "outputs": [],
   "source": [
    "select_indexs_val = (image_no>29)&(image_no<=39)&(ALL_participant_class<=s_number)\n",
    "Val_Inputs = All_Inputs[select_indexs_val]\n",
    "Val_participant_class = All_participant_class[select_indexs_val][:,0:s_number]\n",
    "Val_participant_uniform = Val_participant_class*0+1/s_number\n",
    "Val_command_class = All_command_class[select_indexs_val]\n",
    "Val_command_uniform = Val_command_class*0+1/10"
   ]
  },
  {
   "cell_type": "code",
   "execution_count": 10,
   "metadata": {},
   "outputs": [],
   "source": [
    "select_indexs_test = (image_no>39)&(image_no<=49)&(ALL_participant_class<=s_number)\n",
    "Test_Inputs = All_Inputs[select_indexs_test]\n",
    "Test_participant_class = All_participant_class[select_indexs_test][:,0:s_number]\n",
    "Test_participants = np.argmax(Test_participant_class, axis=1) +1\n",
    "Test_participant_uniform = Test_participant_class*0+1/s_number\n",
    "Test_command_class = All_command_class[select_indexs_test]\n",
    "Test_command_uniform = Test_command_class*0+1/10"
   ]
  },
  {
   "cell_type": "code",
   "execution_count": 11,
   "metadata": {},
   "outputs": [],
   "source": [
    "# external 51-60\n",
    "select_indexs_External = (image_no>39)&(image_no<=49)&(ALL_participant_class>=51)\n",
    "External_Inputs = All_Inputs[select_indexs_External]\n",
    "External_participants = np.argmax(All_participant_class[select_indexs_External], axis=1) +1"
   ]
  },
  {
   "cell_type": "markdown",
   "metadata": {},
   "source": [
    "# load parameters"
   ]
  },
  {
   "cell_type": "code",
   "execution_count": 12,
   "metadata": {},
   "outputs": [],
   "source": [
    "def calculate_ratio(prob_distribution):\n",
    "    return np.sort(prob_distribution)[-1]/np.sort(prob_distribution)[-2]"
   ]
  },
  {
   "cell_type": "code",
   "execution_count": 13,
   "metadata": {},
   "outputs": [
    {
     "data": {
      "text/plain": [
       "8.604401076793671"
      ]
     },
     "execution_count": 13,
     "metadata": {},
     "output_type": "execute_result"
    }
   ],
   "source": [
    "predictions_subject = resnet_model.predict( Train_Inputs)[0]\n",
    "T_subject = sum(1/np.var(predictions_subject,axis=1)) / Train_Inputs.shape[0]\n",
    "T_subject "
   ]
  },
  {
   "cell_type": "markdown",
   "metadata": {},
   "source": [
    "# end-to-end speaker verification "
   ]
  },
  {
   "cell_type": "markdown",
   "metadata": {},
   "source": [
    "## calculation "
   ]
  },
  {
   "cell_type": "code",
   "execution_count": 14,
   "metadata": {},
   "outputs": [],
   "source": [
    "CosSimty = pd.DataFrame(columns=[\"Real_sub\",\"Ratio\"])"
   ]
  },
  {
   "cell_type": "code",
   "execution_count": 15,
   "metadata": {},
   "outputs": [],
   "source": [
    "\n",
    "for i in range(1,6):\n",
    "    temp = pd.DataFrame(columns=[\"Real_sub\",\"Ratio\"])\n",
    "    test_Data = Test_Inputs[np.where(Test_participants == i)]\n",
    "    predictions_subject = resnet_model.predict( test_Data)[0]\n",
    "    temp[\"Real_sub\"] = [i]*len( predictions_subject )\n",
    "    temp[\"Ratio\"] = np.array([calculate_ratio(prob_distribution) for prob_distribution in predictions_subject])\n",
    "    CosSimty = CosSimty.append(temp,ignore_index=True)\n",
    "\n",
    "\n",
    "for i in range(51,61):\n",
    "    temp = pd.DataFrame(columns=[\"Real_sub\",\"Ratio\"])\n",
    "    test_Data = External_Inputs[np.where(External_participants == i)]\n",
    "    predictions_subject = resnet_model.predict( test_Data)[0]\n",
    "    temp[\"Real_sub\"] = [i]*len( predictions_subject )\n",
    "    temp[\"Ratio\"] = np.array([calculate_ratio(prob_distribution) for prob_distribution in predictions_subject])\n",
    "    CosSimty = CosSimty.append(temp,ignore_index=True)\n"
   ]
  },
  {
   "cell_type": "code",
   "execution_count": 16,
   "metadata": {},
   "outputs": [
    {
     "data": {
      "text/plain": [
       "<AxesSubplot:xlabel='Real_sub', ylabel='Ratio'>"
      ]
     },
     "execution_count": 16,
     "metadata": {},
     "output_type": "execute_result"
    },
    {
     "data": {
      "image/png": "[encoded data removed]",
      "text/plain": [
       "<Figure size 432x288 with 1 Axes>"
      ]
     },
     "metadata": {
      "needs_background": "light"
     },
     "output_type": "display_data"
    }
   ],
   "source": [
    "sns.boxplot(data=CosSimty, x=\"Real_sub\",y=\"Ratio\")"
   ]
  },
  {
   "cell_type": "markdown",
   "metadata": {},
   "source": [
    "# unauthorized (51-60) is positve"
   ]
  },
  {
   "cell_type": "code",
   "execution_count": 17,
   "metadata": {},
   "outputs": [],
   "source": [
    "CosSimty.loc[CosSimty[\"Real_sub\"]<6,\"True_Label\"]=0\n",
    "CosSimty.loc[CosSimty[\"Real_sub\"]>5,\"True_Label\"]=1"
   ]
  },
  {
   "cell_type": "code",
   "execution_count": 18,
   "metadata": {},
   "outputs": [],
   "source": [
    "y_test = CosSimty[\"True_Label\"]\n",
    "y_score = CosSimty[\"Ratio\"].max() - CosSimty[\"Ratio\"] # use max - ratio similarity to set the external class as positive class 1"
   ]
  },
  {
   "cell_type": "code",
   "execution_count": 19,
   "metadata": {},
   "outputs": [],
   "source": [
    "precision, recall, thresholds = precision_recall_curve(y_test,y_score)\n",
    "average_precision = average_precision_score(y_test,y_score)\n",
    "fpr, tpr, thresholds = roc_curve(y_test,y_score)"
   ]
  },
  {
   "cell_type": "code",
   "execution_count": 20,
   "metadata": {},
   "outputs": [
    {
     "data": {
      "text/plain": [
       "(0.9254270097004165, 0.8795279999999999)"
      ]
     },
     "execution_count": 20,
     "metadata": {},
     "output_type": "execute_result"
    }
   ],
   "source": [
    "average_precision,auc(fpr, tpr)"
   ]
  },
  {
   "cell_type": "code",
   "execution_count": 21,
   "metadata": {},
   "outputs": [
    {
     "data": {
      "image/png": "[encoded data removed]",
      "text/plain": [
       "<Figure size 432x288 with 1 Axes>"
      ]
     },
     "metadata": {
      "needs_background": "light"
     },
     "output_type": "display_data"
    }
   ],
   "source": [
    "plt.plot(recall, precision)\n",
    "plt.xlabel(\"Recall\")\n",
    "plt.ylabel(\"Precision\")\n",
    "plt.show()"
   ]
  },
  {
   "cell_type": "code",
   "execution_count": 22,
   "metadata": {},
   "outputs": [
    {
     "data": {
      "image/png": "[encoded data removed]",
      "text/plain": [
       "<Figure size 432x288 with 1 Axes>"
      ]
     },
     "metadata": {
      "needs_background": "light"
     },
     "output_type": "display_data"
    }
   ],
   "source": [
    "plt.plot(fpr, tpr)\n",
    "plt.xlabel(\"fpr\")\n",
    "plt.ylabel(\"tpr\")\n",
    "plt.show()"
   ]
  },
  {
   "cell_type": "code",
   "execution_count": 23,
   "metadata": {},
   "outputs": [],
   "source": [
    "Speaker_Verfication_ROC = pd.read_csv(\"Speaker_Verfication_Performance_0925_ROC.csv\")\n",
    "# Speaker_Verfication_Performance = pd.DataFrame()\n",
    "data = pd.DataFrame()\n",
    "data['fpr'] = fpr\n",
    "data['tpr'] = tpr\n",
    "data['Thresholds'] = thresholds\n",
    "data['Data'] =  'Digit Data'\n",
    "data['Train Size'] =  '40%'\n",
    "data['Speaker Number'] =  5\n",
    "data['Positive'] =  'Unauthorized'\n",
    "data['Method'] ='Ratio'\n",
    "Speaker_Verfication_ROC = pd.concat([Speaker_Verfication_ROC,data], ignore_index=True)"
   ]
  },
  {
   "cell_type": "markdown",
   "metadata": {},
   "source": [
    "# authorized (1-5) is positve"
   ]
  },
  {
   "cell_type": "code",
   "execution_count": 24,
   "metadata": {},
   "outputs": [],
   "source": [
    "CosSimty.loc[CosSimty[\"Real_sub\"]<6,\"True_Label\"]=1\n",
    "CosSimty.loc[CosSimty[\"Real_sub\"]>5,\"True_Label\"]=0"
   ]
  },
  {
   "cell_type": "code",
   "execution_count": 25,
   "metadata": {},
   "outputs": [],
   "source": [
    "y_test = CosSimty[\"True_Label\"]\n",
    "y_score = CosSimty[\"Ratio\"] # use max - ratio similarity to set the external class as positive class 1"
   ]
  },
  {
   "cell_type": "code",
   "execution_count": 26,
   "metadata": {},
   "outputs": [],
   "source": [
    "precision, recall, thresholds = precision_recall_curve(y_test,y_score)\n",
    "average_precision = average_precision_score(y_test,y_score)\n",
    "fpr, tpr, thresholds = roc_curve(y_test,y_score)"
   ]
  },
  {
   "cell_type": "code",
   "execution_count": 27,
   "metadata": {},
   "outputs": [
    {
     "data": {
      "text/plain": [
       "(0.7911982389333619, 0.879528)"
      ]
     },
     "execution_count": 27,
     "metadata": {},
     "output_type": "execute_result"
    }
   ],
   "source": [
    "average_precision,auc(fpr, tpr)"
   ]
  },
  {
   "cell_type": "code",
   "execution_count": 28,
   "metadata": {},
   "outputs": [
    {
     "data": {
      "image/png": "[encoded data removed]",
      "text/plain": [
       "<Figure size 432x288 with 1 Axes>"
      ]
     },
     "metadata": {
      "needs_background": "light"
     },
     "output_type": "display_data"
    }
   ],
   "source": [
    "plt.plot(recall, precision)\n",
    "plt.xlabel(\"Recall\")\n",
    "plt.ylabel(\"Precision\")\n",
    "plt.show()"
   ]
  },
  {
   "cell_type": "code",
   "execution_count": 29,
   "metadata": {},
   "outputs": [
    {
     "data": {
      "image/png": "[encoded data removed]",
      "text/plain": [
       "<Figure size 432x288 with 1 Axes>"
      ]
     },
     "metadata": {
      "needs_background": "light"
     },
     "output_type": "display_data"
    }
   ],
   "source": [
    "plt.plot(fpr, tpr)\n",
    "plt.xlabel(\"fpr\")\n",
    "plt.ylabel(\"tpr\")\n",
    "plt.show()"
   ]
  },
  {
   "cell_type": "code",
   "execution_count": 30,
   "metadata": {},
   "outputs": [],
   "source": [
    "data = pd.DataFrame()\n",
    "data['fpr'] = fpr\n",
    "data['tpr'] = tpr\n",
    "data['Thresholds'] = thresholds\n",
    "data['Data'] =  'Digit Data'\n",
    "data['Train Size'] =  '40%'\n",
    "data['Speaker Number'] = 5\n",
    "data['Positive'] =  'Authorized'\n",
    "data['Method'] ='Ratio'\n",
    "Speaker_Verfication_ROC = pd.concat([Speaker_Verfication_ROC,data], ignore_index=True)\n",
    "Speaker_Verfication_ROC.to_csv('Speaker_Verfication_Performance_0925_ROC.csv',index=False)"
   ]
  }
 ],
 "metadata": {
  "kernelspec": {
   "display_name": "Python 3",
   "language": "python",
   "name": "python3"
  },
  "language_info": {
   "codemirror_mode": {
    "name": "ipython",
    "version": 3
   },
   "file_extension": ".py",
   "mimetype": "text/x-python",
   "name": "python",
   "nbconvert_exporter": "python",
   "pygments_lexer": "ipython3",
   "version": "3.6.9"
  }
 },
 "nbformat": 4,
 "nbformat_minor": 4
}
