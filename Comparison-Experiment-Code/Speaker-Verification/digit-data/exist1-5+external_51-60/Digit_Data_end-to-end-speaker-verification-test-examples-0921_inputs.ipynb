{
 "cells": [
  {
   "cell_type": "code",
   "execution_count": 1,
   "metadata": {},
   "outputs": [],
   "source": [
    "import os\n",
    "os.environ[\"CUDA_DEVICE_ORDER\"] = \"PCI_BUS_ID\"\n",
    "os.environ[\"CUDA_VISIBLE_DEVICES\"] = \"1\"   #(xxxx is your specific GPU ID)"
   ]
  },
  {
   "cell_type": "code",
   "execution_count": 2,
   "metadata": {},
   "outputs": [],
   "source": [
    "from tensorflow.keras.applications import ResNet50\n",
    "from tensorflow.keras.applications.resnet50 import preprocess_input\n",
    "from tensorflow.keras.layers import Activation, Dense, Flatten, GlobalAveragePooling2D\n",
    "from tensorflow.keras.preprocessing import image\n",
    "from tensorflow.keras.models import Sequential\n",
    "import numpy as np\n",
    "import matplotlib.pyplot as plt\n",
    "import pandas as pd\n",
    "import os\n",
    "from sklearn.preprocessing import MinMaxScaler\n",
    "import seaborn as sns\n",
    "from PIL import Image\n",
    "import tensorflow as tf\n",
    "from tensorflow.keras.preprocessing.image import ImageDataGenerator\n",
    "# from MyEarlyStopping import MyEarlyStopping\n",
    "import warnings\n",
    "warnings.simplefilter(action='ignore', category=FutureWarning)\n",
    "# from keras.optimizers import adam\n",
    "from sklearn.metrics.pairwise import cosine_similarity\n",
    "import timeit\n",
    "from sklearn.metrics import confusion_matrix\n",
    "import sklearn.metrics as metrics\n",
    "from sklearn.preprocessing import LabelEncoder  \n",
    "from sklearn.metrics import average_precision_score, precision_recall_curve"
   ]
  },
  {
   "cell_type": "markdown",
   "metadata": {},
   "source": [
    "# load trained model"
   ]
  },
  {
   "cell_type": "code",
   "execution_count": 3,
   "metadata": {
    "scrolled": true
   },
   "outputs": [
    {
     "name": "stdout",
     "output_type": "stream",
     "text": [
      "WARNING:tensorflow:Error in loading the saved optimizer state. As a result, your model is starting with a freshly initialized optimizer.\n"
     ]
    }
   ],
   "source": [
    "resnet_model = tf.keras.models.load_model('Digital_data_Initial_group_model_0531_free&unfree.h5')"
   ]
  },
  {
   "cell_type": "markdown",
   "metadata": {},
   "source": [
    "## load data"
   ]
  },
  {
   "cell_type": "code",
   "execution_count": 4,
   "metadata": {},
   "outputs": [
    {
     "name": "stdout",
     "output_type": "stream",
     "text": [
      "Found 30000 images belonging to 10 classes.\n"
     ]
    }
   ],
   "source": [
    "All_data = ImageDataGenerator(preprocessing_function=preprocess_input)\n",
    "All_data_generator = All_data.flow_from_directory('/data/home/cou/yuli5/Audio/online_data_adaption/Mel_Audio_folder_digits',\n",
    "                                                batch_size=1,\n",
    "                                                target_size=(224,224),\n",
    "                                                class_mode='categorical',\n",
    "                                               shuffle=False)"
   ]
  },
  {
   "cell_type": "code",
   "execution_count": 5,
   "metadata": {},
   "outputs": [],
   "source": [
    "image_names = All_data_generator.filenames\n",
    "image_no = [i.split(\"/\")[1].split(\"_\")[2].split(\".\")[0] for i in image_names]\n",
    "image_no = np.array(list(map(int, image_no)))\n",
    "ALL_participant_class = [i.split(\"/\")[1].split(\"_\")[1] for i in image_names]\n",
    "ALL_participant_class = np.array(list(map(int, ALL_participant_class)))\n",
    "command_class = All_data_generator.classes\n",
    "All_participant_class = tf.keras.utils.to_categorical(ALL_participant_class-1, num_classes=60)\n",
    "All_command_class = tf.keras.utils.to_categorical(command_class, num_classes=10)\n",
    "All_command_uniform = All_command_class*0+1/10"
   ]
  },
  {
   "cell_type": "code",
   "execution_count": 6,
   "metadata": {},
   "outputs": [],
   "source": [
    "All_Inputs = [next(All_data_generator)[0][0] for _ in range(len(All_data_generator))]\n",
    "All_Inputs = np.array(All_Inputs)"
   ]
  },
  {
   "cell_type": "code",
   "execution_count": 7,
   "metadata": {},
   "outputs": [],
   "source": [
    "# image_no<=20 means every word repeat 20 times \n",
    "s_number = 5 # ALL_participant_class  the subject index\n",
    "\n",
    "select_indexs_train = (image_no<=19)&(ALL_participant_class<=s_number)\n",
    "Train_Inputs = All_Inputs[select_indexs_train]\n",
    "Train_participant_class = All_participant_class[select_indexs_train][:,0:s_number]\n",
    "Train_participants = np.argmax(Train_participant_class, axis=1) +1\n",
    "Train_participant_uniform = Train_participant_class*0+1/s_number\n",
    "Train_command_class = All_command_class[select_indexs_train]\n",
    "Train_command_uniform = Train_command_class*0+1/10"
   ]
  },
  {
   "cell_type": "code",
   "execution_count": 8,
   "metadata": {},
   "outputs": [],
   "source": [
    "select_indexs_val = (image_no>29)&(image_no<=39)&(ALL_participant_class<=s_number)\n",
    "Val_Inputs = All_Inputs[select_indexs_val]\n",
    "Val_participant_class = All_participant_class[select_indexs_val][:,0:s_number]\n",
    "Val_participant_uniform = Val_participant_class*0+1/s_number\n",
    "Val_command_class = All_command_class[select_indexs_val]\n",
    "Val_command_uniform = Val_command_class*0+1/10"
   ]
  },
  {
   "cell_type": "code",
   "execution_count": 9,
   "metadata": {},
   "outputs": [],
   "source": [
    "select_indexs_test = (image_no>39)&(image_no<=49)&(ALL_participant_class<=s_number)\n",
    "Test_Inputs = All_Inputs[select_indexs_test]\n",
    "Test_participant_class = All_participant_class[select_indexs_test][:,0:s_number]\n",
    "Test_participants = np.argmax(Test_participant_class, axis=1) +1\n",
    "Test_participant_uniform = Test_participant_class*0+1/s_number\n",
    "Test_command_class = All_command_class[select_indexs_test]\n",
    "Test_command_uniform = Test_command_class*0+1/10"
   ]
  },
  {
   "cell_type": "code",
   "execution_count": 10,
   "metadata": {},
   "outputs": [],
   "source": [
    "# external 51-60\n",
    "select_indexs_External = (image_no>39)&(image_no<=49)&(ALL_participant_class>=51)\n",
    "External_Inputs = All_Inputs[select_indexs_External]\n",
    "External_participants = np.argmax(All_participant_class[select_indexs_External], axis=1) +1"
   ]
  },
  {
   "cell_type": "markdown",
   "metadata": {},
   "source": [
    "# get average embedding value based on training data"
   ]
  },
  {
   "cell_type": "code",
   "execution_count": 11,
   "metadata": {},
   "outputs": [],
   "source": [
    "# average all training subject embedding\n",
    "embd_sub_1 = Train_Inputs[Train_participants==1].mean(axis=0).reshape(1, -1)\n",
    "embd_sub_2 = Train_Inputs[Train_participants==2].mean(axis=0).reshape(1, -1)\n",
    "embd_sub_3 = Train_Inputs[Train_participants==3].mean(axis=0).reshape(1, -1)\n",
    "embd_sub_4 = Train_Inputs[Train_participants==4].mean(axis=0).reshape(1, -1)\n",
    "embd_sub_5 = Train_Inputs[Train_participants==5].mean(axis=0).reshape(1, -1)\n",
    "embd_allsubs = Train_Inputs.mean(axis=0).reshape(1, -1)"
   ]
  },
  {
   "cell_type": "markdown",
   "metadata": {},
   "source": [
    "# end-to-end speaker verification "
   ]
  },
  {
   "cell_type": "markdown",
   "metadata": {},
   "source": [
    "## calculation "
   ]
  },
  {
   "cell_type": "code",
   "execution_count": 12,
   "metadata": {},
   "outputs": [],
   "source": [
    "CosSimty = pd.DataFrame(columns=[\"Real_sub\",\"cos_sub_1\",\"cos_sub_2\",\"cos_sub_3\",\"cos_sub_4\",\"cos_sub_5\",\"cos_all\"])"
   ]
  },
  {
   "cell_type": "code",
   "execution_count": 13,
   "metadata": {},
   "outputs": [],
   "source": [
    "for i in range(1,6):\n",
    "    test_Data = Test_Inputs[np.where(Test_participants == i)]\n",
    "    temp = pd.DataFrame(columns=[\"Real_sub\",\"cos_sub_1\",\"cos_sub_2\",\"cos_sub_3\",\"cos_sub_4\",\"cos_sub_5\",\"cos_all\"])\n",
    "    temp[\"Real_sub\"] = [i]*len( test_Data )\n",
    "    temp[\"cos_sub_1\"]= cosine_similarity(test_Data.reshape(len( test_Data ), -1), embd_sub_1)\n",
    "    temp[\"cos_sub_2\"]= cosine_similarity(test_Data.reshape(len( test_Data ), -1), embd_sub_2)\n",
    "    temp[\"cos_sub_3\"]= cosine_similarity(test_Data.reshape(len( test_Data ), -1), embd_sub_3)\n",
    "    temp[\"cos_sub_4\"]= cosine_similarity(test_Data.reshape(len( test_Data ), -1), embd_sub_4)\n",
    "    temp[\"cos_sub_5\"]= cosine_similarity(test_Data.reshape(len( test_Data ), -1), embd_sub_5)\n",
    "    temp[\"cos_all\"]= cosine_similarity(test_Data.reshape(len( test_Data ), -1), embd_allsubs)\n",
    "\n",
    "    CosSimty = CosSimty.append(temp,ignore_index=True)\n",
    "\n",
    "for i in range(51,61):\n",
    "    test_Data = External_Inputs[np.where(External_participants == i)]\n",
    "    temp = pd.DataFrame(columns=[\"Real_sub\",\"cos_sub_1\",\"cos_sub_2\",\"cos_sub_3\",\"cos_sub_4\",\"cos_sub_5\",\"cos_all\"])\n",
    "    temp[\"Real_sub\"] = [i]*len( test_Data )\n",
    "    temp[\"cos_sub_1\"]= cosine_similarity(test_Data.reshape(len( test_Data ), -1), embd_sub_1)\n",
    "    temp[\"cos_sub_2\"]= cosine_similarity(test_Data.reshape(len( test_Data ), -1), embd_sub_2)\n",
    "    temp[\"cos_sub_3\"]= cosine_similarity(test_Data.reshape(len( test_Data ), -1), embd_sub_3)\n",
    "    temp[\"cos_sub_4\"]= cosine_similarity(test_Data.reshape(len( test_Data ), -1), embd_sub_4)\n",
    "    temp[\"cos_sub_5\"]= cosine_similarity(test_Data.reshape(len( test_Data ), -1), embd_sub_5)\n",
    "    temp[\"cos_all\"]= cosine_similarity(test_Data.reshape(len( test_Data ), -1), embd_allsubs)\n",
    "\n",
    "    CosSimty = CosSimty.append(temp,ignore_index=True)\n"
   ]
  },
  {
   "cell_type": "code",
   "execution_count": 14,
   "metadata": {},
   "outputs": [],
   "source": [
    "CosSimty.loc[CosSimty[\"Real_sub\"]<6,\"True_Label\"]=0\n",
    "CosSimty.loc[CosSimty[\"Real_sub\"]>5,\"True_Label\"]=1"
   ]
  },
  {
   "cell_type": "markdown",
   "metadata": {},
   "source": [
    "## verification using the average all"
   ]
  },
  {
   "cell_type": "code",
   "execution_count": 15,
   "metadata": {},
   "outputs": [],
   "source": [
    "y_test = CosSimty[\"True_Label\"]\n",
    "y_score = 1 - CosSimty[\"cos_all\"]"
   ]
  },
  {
   "cell_type": "code",
   "execution_count": 16,
   "metadata": {},
   "outputs": [],
   "source": [
    "precision, recall, thresholds = precision_recall_curve(y_test,y_score)\n",
    "average_precision = average_precision_score(y_test,y_score)"
   ]
  },
  {
   "cell_type": "code",
   "execution_count": 17,
   "metadata": {},
   "outputs": [
    {
     "data": {
      "text/plain": [
       "0.7795016933712637"
      ]
     },
     "execution_count": 17,
     "metadata": {},
     "output_type": "execute_result"
    }
   ],
   "source": [
    "average_precision"
   ]
  },
  {
   "cell_type": "code",
   "execution_count": 18,
   "metadata": {},
   "outputs": [
    {
     "data": {
      "image/png": "[encoded data removed]",
      "text/plain": [
       "<Figure size 432x288 with 1 Axes>"
      ]
     },
     "metadata": {
      "needs_background": "light"
     },
     "output_type": "display_data"
    }
   ],
   "source": [
    "plt.plot(recall, precision)\n",
    "plt.xlabel(\"Recall\")\n",
    "plt.ylabel(\"Precision\")\n",
    "plt.show()"
   ]
  },
  {
   "cell_type": "code",
   "execution_count": 19,
   "metadata": {},
   "outputs": [
    {
     "data": {
      "text/plain": [
       "(0.3, 1.0)"
      ]
     },
     "execution_count": 19,
     "metadata": {},
     "output_type": "execute_result"
    },
    {
     "data": {
      "image/png": "[encoded data removed]",
      "text/plain": [
       "<Figure size 432x288 with 1 Axes>"
      ]
     },
     "metadata": {
      "needs_background": "light"
     },
     "output_type": "display_data"
    }
   ],
   "source": [
    "sns.boxplot(data=CosSimty, x=\"Real_sub\",y=\"cos_all\")\n",
    "plt.ylim(0.3,1)"
   ]
  },
  {
   "cell_type": "code",
   "execution_count": 20,
   "metadata": {},
   "outputs": [
    {
     "data": {
      "text/html": [
       "<div>\n",
       "<style scoped>\n",
       "    .dataframe tbody tr th:only-of-type {\n",
       "        vertical-align: middle;\n",
       "    }\n",
       "\n",
       "    .dataframe tbody tr th {\n",
       "        vertical-align: top;\n",
       "    }\n",
       "\n",
       "    .dataframe thead th {\n",
       "        text-align: right;\n",
       "    }\n",
       "</style>\n",
       "<table border=\"1\" class=\"dataframe\">\n",
       "  <thead>\n",
       "    <tr style=\"text-align: right;\">\n",
       "      <th></th>\n",
       "      <th>cos_sub_1</th>\n",
       "      <th>cos_sub_2</th>\n",
       "      <th>cos_sub_3</th>\n",
       "      <th>cos_sub_4</th>\n",
       "      <th>cos_sub_5</th>\n",
       "      <th>cos_all</th>\n",
       "      <th>True_Label</th>\n",
       "    </tr>\n",
       "    <tr>\n",
       "      <th>Real_sub</th>\n",
       "      <th></th>\n",
       "      <th></th>\n",
       "      <th></th>\n",
       "      <th></th>\n",
       "      <th></th>\n",
       "      <th></th>\n",
       "      <th></th>\n",
       "    </tr>\n",
       "  </thead>\n",
       "  <tbody>\n",
       "    <tr>\n",
       "      <th>1</th>\n",
       "      <td>0.966620</td>\n",
       "      <td>0.960965</td>\n",
       "      <td>0.959557</td>\n",
       "      <td>0.960483</td>\n",
       "      <td>0.960410</td>\n",
       "      <td>0.964098</td>\n",
       "      <td>0.0</td>\n",
       "    </tr>\n",
       "    <tr>\n",
       "      <th>2</th>\n",
       "      <td>0.965421</td>\n",
       "      <td>0.970171</td>\n",
       "      <td>0.964948</td>\n",
       "      <td>0.963626</td>\n",
       "      <td>0.965882</td>\n",
       "      <td>0.968517</td>\n",
       "      <td>0.0</td>\n",
       "    </tr>\n",
       "    <tr>\n",
       "      <th>3</th>\n",
       "      <td>0.968096</td>\n",
       "      <td>0.970129</td>\n",
       "      <td>0.975430</td>\n",
       "      <td>0.967687</td>\n",
       "      <td>0.970914</td>\n",
       "      <td>0.972977</td>\n",
       "      <td>0.0</td>\n",
       "    </tr>\n",
       "    <tr>\n",
       "      <th>4</th>\n",
       "      <td>0.962785</td>\n",
       "      <td>0.962700</td>\n",
       "      <td>0.961480</td>\n",
       "      <td>0.969204</td>\n",
       "      <td>0.961154</td>\n",
       "      <td>0.965960</td>\n",
       "      <td>0.0</td>\n",
       "    </tr>\n",
       "    <tr>\n",
       "      <th>5</th>\n",
       "      <td>0.968205</td>\n",
       "      <td>0.969324</td>\n",
       "      <td>0.970101</td>\n",
       "      <td>0.966163</td>\n",
       "      <td>0.974230</td>\n",
       "      <td>0.972121</td>\n",
       "      <td>0.0</td>\n",
       "    </tr>\n",
       "    <tr>\n",
       "      <th>51</th>\n",
       "      <td>0.955665</td>\n",
       "      <td>0.956624</td>\n",
       "      <td>0.955446</td>\n",
       "      <td>0.956042</td>\n",
       "      <td>0.956069</td>\n",
       "      <td>0.958449</td>\n",
       "      <td>1.0</td>\n",
       "    </tr>\n",
       "    <tr>\n",
       "      <th>52</th>\n",
       "      <td>0.961080</td>\n",
       "      <td>0.960645</td>\n",
       "      <td>0.959118</td>\n",
       "      <td>0.961446</td>\n",
       "      <td>0.961621</td>\n",
       "      <td>0.963272</td>\n",
       "      <td>1.0</td>\n",
       "    </tr>\n",
       "    <tr>\n",
       "      <th>53</th>\n",
       "      <td>0.962018</td>\n",
       "      <td>0.961820</td>\n",
       "      <td>0.964087</td>\n",
       "      <td>0.960928</td>\n",
       "      <td>0.966525</td>\n",
       "      <td>0.965575</td>\n",
       "      <td>1.0</td>\n",
       "    </tr>\n",
       "    <tr>\n",
       "      <th>54</th>\n",
       "      <td>0.960311</td>\n",
       "      <td>0.960866</td>\n",
       "      <td>0.963150</td>\n",
       "      <td>0.959920</td>\n",
       "      <td>0.964100</td>\n",
       "      <td>0.964167</td>\n",
       "      <td>1.0</td>\n",
       "    </tr>\n",
       "    <tr>\n",
       "      <th>55</th>\n",
       "      <td>0.962898</td>\n",
       "      <td>0.964432</td>\n",
       "      <td>0.964362</td>\n",
       "      <td>0.961177</td>\n",
       "      <td>0.967697</td>\n",
       "      <td>0.966616</td>\n",
       "      <td>1.0</td>\n",
       "    </tr>\n",
       "    <tr>\n",
       "      <th>56</th>\n",
       "      <td>0.962311</td>\n",
       "      <td>0.962409</td>\n",
       "      <td>0.962473</td>\n",
       "      <td>0.962601</td>\n",
       "      <td>0.964129</td>\n",
       "      <td>0.965282</td>\n",
       "      <td>1.0</td>\n",
       "    </tr>\n",
       "    <tr>\n",
       "      <th>57</th>\n",
       "      <td>0.963465</td>\n",
       "      <td>0.966430</td>\n",
       "      <td>0.966877</td>\n",
       "      <td>0.965655</td>\n",
       "      <td>0.965794</td>\n",
       "      <td>0.968152</td>\n",
       "      <td>1.0</td>\n",
       "    </tr>\n",
       "    <tr>\n",
       "      <th>58</th>\n",
       "      <td>0.956527</td>\n",
       "      <td>0.956241</td>\n",
       "      <td>0.956034</td>\n",
       "      <td>0.959125</td>\n",
       "      <td>0.957023</td>\n",
       "      <td>0.959471</td>\n",
       "      <td>1.0</td>\n",
       "    </tr>\n",
       "    <tr>\n",
       "      <th>59</th>\n",
       "      <td>0.958939</td>\n",
       "      <td>0.957106</td>\n",
       "      <td>0.954854</td>\n",
       "      <td>0.957155</td>\n",
       "      <td>0.959186</td>\n",
       "      <td>0.959928</td>\n",
       "      <td>1.0</td>\n",
       "    </tr>\n",
       "    <tr>\n",
       "      <th>60</th>\n",
       "      <td>0.962940</td>\n",
       "      <td>0.960144</td>\n",
       "      <td>0.961771</td>\n",
       "      <td>0.962721</td>\n",
       "      <td>0.963478</td>\n",
       "      <td>0.964705</td>\n",
       "      <td>1.0</td>\n",
       "    </tr>\n",
       "  </tbody>\n",
       "</table>\n",
       "</div>"
      ],
      "text/plain": [
       "          cos_sub_1  cos_sub_2  cos_sub_3  cos_sub_4  cos_sub_5   cos_all  \\\n",
       "Real_sub                                                                    \n",
       "1          0.966620   0.960965   0.959557   0.960483   0.960410  0.964098   \n",
       "2          0.965421   0.970171   0.964948   0.963626   0.965882  0.968517   \n",
       "3          0.968096   0.970129   0.975430   0.967687   0.970914  0.972977   \n",
       "4          0.962785   0.962700   0.961480   0.969204   0.961154  0.965960   \n",
       "5          0.968205   0.969324   0.970101   0.966163   0.974230  0.972121   \n",
       "51         0.955665   0.956624   0.955446   0.956042   0.956069  0.958449   \n",
       "52         0.961080   0.960645   0.959118   0.961446   0.961621  0.963272   \n",
       "53         0.962018   0.961820   0.964087   0.960928   0.966525  0.965575   \n",
       "54         0.960311   0.960866   0.963150   0.959920   0.964100  0.964167   \n",
       "55         0.962898   0.964432   0.964362   0.961177   0.967697  0.966616   \n",
       "56         0.962311   0.962409   0.962473   0.962601   0.964129  0.965282   \n",
       "57         0.963465   0.966430   0.966877   0.965655   0.965794  0.968152   \n",
       "58         0.956527   0.956241   0.956034   0.959125   0.957023  0.959471   \n",
       "59         0.958939   0.957106   0.954854   0.957155   0.959186  0.959928   \n",
       "60         0.962940   0.960144   0.961771   0.962721   0.963478  0.964705   \n",
       "\n",
       "          True_Label  \n",
       "Real_sub              \n",
       "1                0.0  \n",
       "2                0.0  \n",
       "3                0.0  \n",
       "4                0.0  \n",
       "5                0.0  \n",
       "51               1.0  \n",
       "52               1.0  \n",
       "53               1.0  \n",
       "54               1.0  \n",
       "55               1.0  \n",
       "56               1.0  \n",
       "57               1.0  \n",
       "58               1.0  \n",
       "59               1.0  \n",
       "60               1.0  "
      ]
     },
     "execution_count": 20,
     "metadata": {},
     "output_type": "execute_result"
    }
   ],
   "source": [
    "CosSimty.groupby([\"Real_sub\"]).mean()"
   ]
  },
  {
   "cell_type": "code",
   "execution_count": 21,
   "metadata": {},
   "outputs": [],
   "source": [
    "Speaker_Verfication_Performance = pd.read_csv(\"Speaker_Verfication_Performance_0921_Externalas1.csv\")\n",
    "# Speaker_Verfication_Performance = pd.DataFrame()\n",
    "data = pd.DataFrame()"
   ]
  },
  {
   "cell_type": "code",
   "execution_count": 22,
   "metadata": {},
   "outputs": [],
   "source": [
    "data['Recall'] = recall\n",
    "data['Precision'] = precision\n",
    "data['Thresholds'] = np.append(thresholds,\"nan\")\n",
    "data['Data'] =  'Digit Data'\n",
    "data['Train Size'] =  '40%'\n",
    "data['Speaker Number'] =  5\n",
    "data['D-vector'] =  'inputs'\n",
    "Speaker_Verfication_Performance = pd.concat([Speaker_Verfication_Performance,data], ignore_index=True)"
   ]
  },
  {
   "cell_type": "code",
   "execution_count": 23,
   "metadata": {},
   "outputs": [],
   "source": [
    "Speaker_Verfication_Performance.to_csv('Speaker_Verfication_Performance_0921_Externalas1.csv',index=False)"
   ]
  },
  {
   "cell_type": "code",
   "execution_count": null,
   "metadata": {},
   "outputs": [],
   "source": []
  },
  {
   "cell_type": "code",
   "execution_count": null,
   "metadata": {},
   "outputs": [],
   "source": []
  },
  {
   "cell_type": "code",
   "execution_count": null,
   "metadata": {},
   "outputs": [],
   "source": []
  }
 ],
 "metadata": {
  "kernelspec": {
   "display_name": "Python 3",
   "language": "python",
   "name": "python3"
  },
  "language_info": {
   "codemirror_mode": {
    "name": "ipython",
    "version": 3
   },
   "file_extension": ".py",
   "mimetype": "text/x-python",
   "name": "python",
   "nbconvert_exporter": "python",
   "pygments_lexer": "ipython3",
   "version": "3.6.9"
  }
 },
 "nbformat": 4,
 "nbformat_minor": 4
}
