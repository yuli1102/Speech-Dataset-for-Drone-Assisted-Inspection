{
 "cells": [
  {
   "cell_type": "code",
   "execution_count": 1,
   "id": "311ce85f",
   "metadata": {},
   "outputs": [],
   "source": [
    "import os\n",
    "os.environ[\"CUDA_DEVICE_ORDER\"] = \"PCI_BUS_ID\"\n",
    "os.environ[\"CUDA_VISIBLE_DEVICES\"] = \"1\"   #(xxxx is your specific GPU ID)"
   ]
  },
  {
   "cell_type": "code",
   "execution_count": 2,
   "id": "161144c2",
   "metadata": {},
   "outputs": [],
   "source": [
    "import librosa, IPython\n",
    "import librosa.display\n",
    "import numpy as np\n",
    "import pandas as pd\n",
    "import matplotlib.pyplot as plt\n",
    "from matplotlib.backends.backend_agg import FigureCanvasAgg as FigureCanvas\n",
    "from os import walk\n",
    "import sklearn"
   ]
  },
  {
   "cell_type": "code",
   "execution_count": 3,
   "id": "7cb50613",
   "metadata": {},
   "outputs": [],
   "source": [
    "# get all file name\n",
    "filenames=[]\n",
    "for p in os.listdir(\"data_speech_digital\") :\n",
    "    filenames.append(next(walk(\"data_speech_digital/\"+str(p)))[2])\n",
    "    "
   ]
  },
  {
   "cell_type": "code",
   "execution_count": 4,
   "id": "02fe3e59",
   "metadata": {},
   "outputs": [],
   "source": [
    "# get all specshow image\n",
    "for i in range(len(os.listdir(\"data_speech_digital\"))):\n",
    "    participant_no = os.listdir(\"data_speech_digital\")[i]\n",
    "    for f in filenames[i]:\n",
    "        label = f.split(\"_\")[0]\n",
    "        audiofile = \"data_speech_digital/\"+participant_no+\"/\" + f \n",
    "        Signal , sr = librosa.load(audiofile , sr = 41000) \n",
    "        mfcc = librosa.feature.mfcc(Signal, sr=41000)\n",
    "        mfcc = sklearn.preprocessing.scale(mfcc.astype(float), axis=1) \n",
    "        fig = plt.Figure()\n",
    "        canvas = FigureCanvas(fig)\n",
    "        ax = fig.add_subplot(111)\n",
    "        img = librosa.display.specshow(mfcc, sr=441000,ax=ax)\n",
    "        filename = \"/data/home/cou/yuli5/Audio/online_data_adaption/Mfcc_Audio_folder_digital/%s/p_%s_%s.jpeg\"%(label,participant_no,f.split(\"_\")[-1])\n",
    "        fig.savefig(filename)   \n"
   ]
  },
  {
   "cell_type": "code",
   "execution_count": null,
   "id": "8b60f172",
   "metadata": {},
   "outputs": [],
   "source": []
  }
 ],
 "metadata": {
  "kernelspec": {
   "display_name": "Python 3",
   "language": "python",
   "name": "python3"
  },
  "language_info": {
   "codemirror_mode": {
    "name": "ipython",
    "version": 3
   },
   "file_extension": ".py",
   "mimetype": "text/x-python",
   "name": "python",
   "nbconvert_exporter": "python",
   "pygments_lexer": "ipython3",
   "version": "3.6.9"
  }
 },
 "nbformat": 4,
 "nbformat_minor": 5
}
